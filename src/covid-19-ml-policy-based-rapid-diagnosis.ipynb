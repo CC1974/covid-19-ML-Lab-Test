{
 "cells": [
  {
   "cell_type": "markdown",
   "metadata": {},
   "source": [
    "# COVID-19 Machine Learning-Based Rapid Diagnosis From Common Laboratory Tests\n",
    "\n",
    "Tharsis Souza, Ph.D. and Gustavo Sainatto, M.D.\n",
    "\n",
    "## Abstract\n",
    "\n",
    "*The sudden and rapid growth of COVID-19 cases is overwhelming health systems globally. Fast, accurate and early detection of SARS-CoV-2 is of vital importance to control the spread of the virus. However, traditional SARS-CoV-2 detection based on RT-PCR assays can be costly, long-drawn-out and widely unavailable making testing every case an impractical effort. In this work, we propose a machine learning-based approach for the rapid detection of COVID-19 cases using commonly available laboratory test data. We analyze a sample of 5644 patients of which 558 tested positive for SARS-CoV-2 from the Hospital Israelita Albert Einstein, at São Paulo, Brazil. The proposed model presents an overall high performance of 92% (AUC) considering a held-out test group of ⅓ of the original sample data. We observe that patients admitted with COVID-19 symptoms who tested negative for Rhinovirus Enterovirus, Influenza B and Inf.A.H1N1.2009 and presented low levels of Leukocytes and Platelets were more likely to test positive for SARS-CoV-2. We also present a parameterized model based on different scenarios which are given as a function of a target Sensitivity level or the total number of potential positive cases the hospital would have the capacity to prioritize. At a 25% capacity rate of patients deemed SARS-CoV-2 positive, the proposed model shows Sensitivity and Specificity of over 84% and 96%, respectively, hence proving to be a useful rapid prioritization tool.*\n",
    "\n",
    "## Introduction\n",
    "\n",
    "### Background\n",
    "\n",
    "The World Health Organization (WHO) characterized COVID-19, caused by SARS-CoV-2, as a pandemic on March 11, while the exponential increase in the number of cases was risking to overwhelm health systems around the world with a demand for ICU beds far above the existing capacity, with regions of Italy being prominent examples.\n",
    "\n",
    "Brazil recorded the first case of SARS-CoV-2 on February 26, and the virus transmission evolved from imported cases only to local and finally community transmission very rapidly, with the federal government declaring nationwide community transmission on March 20.\n",
    "\n",
    "Until March 27 2020, the state of São Paulo had recorded 1,223 confirmed cases of COVID-19, with 68 related deaths, while the county of São Paulo, with a population of approximately 12 million people and where Hospital Israelita Albert Einstein is located, had 477 confirmed cases and 30 associated deaths, as of March 23. Both the state and the county of São Paulo decided to establish quarantine and social distancing measures, that will be enforced at least until early April, in an effort to slow the virus spread.\n",
    "\n",
    "## Motivation and Objectives\n",
    "\n",
    "This work has the objective to predict confirmed COVID-19 cases among suspected cases based on commonly collected laboratory exams.\n",
    "We consider the following research question:\n",
    "\n",
    "*Based on the results of laboratory tests commonly collected for a suspected COVID-19 case during a visit to the emergency room, would it be possible to predict the test result for SARS-Cov-2 (positive/negative)?*\n",
    "\n",
    "One of the motivations for this work is the fact that in the context of an overwhelmed health system with the possible limitation to perform tests for the detection of SARS-CoV-2, testing every case would be impractical and considering that tests results takes from 48 hours to a whole week, they could be delayed even if only a target subpopulation would be tested.\n",
    "\n",
    "## Contribution\n",
    "\n",
    "This work suggests a simple model to quickly predict patients at the highest risk of having contracted SARS-CoV-2, enabling them to be prioritized and potentially allowing for isolation measures and associated medical procedures. Our contributions are three-fold:\n",
    "\n",
    "1. A rapid- high-accuracy test for SARS-CoV-2: The proposed model is solely based on commonly available laboratory test data and it presents high performance with 92% AUC and Sensitivity levels greater than 85% with reasonable Specificity levels of over 85%\n",
    "\n",
    "2. Interpretability: Variable importance and conditional dependencies with the outcome variable are easily extracted from the model and its interpretation can guide medical decision-making\n",
    "\n",
    "3. Flexibility: Model construction is flexible to different policy scenarios depending on target Sensitivity levels, hospital capacity and disease prevalence\n",
    "\n",
    "\n",
    "## Dataset\n",
    "\n",
    "The dataset contains anonymized data from patients seen at the Hospital Israelita Albert Einstein, at São Paulo, Brazil, and who had samples collected to perform the SARS-CoV-2 RT-PCR and additional laboratory tests during a visit to the hospital.\n",
    "\n",
    "All data were anonymized following the best international practices and recommendations. All clinical data were standardized to have a mean of zero and a unit standard deviation."
   ]
  },
  {
   "cell_type": "code",
   "execution_count": 1,
   "metadata": {},
   "outputs": [],
   "source": [
    "# load aux functions\n",
    "source(\"../input/00funcsr/00-Funcs.R\")\n",
    "\n",
    "#load input dataset\n",
    "library(\"readxl\");\n",
    "data <- as.data.frame(read_excel(\"../input/covid19/dataset.xlsx\"), stringAsFactors=F)"
   ]
  },
  {
   "cell_type": "markdown",
   "metadata": {},
   "source": [
    "The dataset contains 109 variables (predictors), a Patient ID and one target outcome variable, which indicates whether the patient tested positive/negative for SARS-Cov-2. There are 5644 samples available with 558 positive cases, which constitutes 10% of the dataset."
   ]
  },
  {
   "cell_type": "markdown",
   "metadata": {},
   "source": [
    "### Data Preparation\n",
    "\n",
    "Firstly, we perform some basic data cleaning procedures:\n",
    "\n",
    "1. Make variable names syntactically valid by removing special characters, spaces and symbols\n",
    "2. Convert strings that represent missing data to **NA**, namely the following values: 'Não Realizado' and 'not_done'\n",
    "3. Convert string categorical values to factors\n",
    "4. Convert the variable **Urine...pH** to numeric, as it contains a mix of string and numeric values in the input data"
   ]
  },
  {
   "cell_type": "code",
   "execution_count": 2,
   "metadata": {
    "_kg_hide-input": true
   },
   "outputs": [],
   "source": [
    "# make variable names syntactically valid\n",
    "names(data) <- make.names(names(data))\n",
    "data$Patient.ID <- NULL\n",
    "\n",
    "# Replace column values that should be empty for NA\n",
    "data[data=='Não Realizado'] <- NA\n",
    "data[data=='not_done'] <- NA\n",
    "data[data=='<1000'] <- 500\n",
    "\n",
    "data$Urine...Leukocytes <- as.integer(data$Urine...Leukocytes)\n",
    "data$Urine...pH <- as.integer(data$Urine...pH)\n",
    "\n",
    "# convert string values to factors\n",
    "ind <- sapply(data, is.character)\n",
    "data[ind] <- lapply(data[ind], factor)\n",
    "\n",
    "data$Lipase.dosage <- as.factor(data$Lipase.dosage)"
   ]
  },
  {
   "cell_type": "markdown",
   "metadata": {},
   "source": [
    "Our outcome variable is given by the name **SARS.Cov.2.exam.result**, it is a binary variable which indicates whether the patient tested positive or negative for the virus SARS-COV2. We convert this variable such that $SARS.Cov.2.exam.result = 1$, if the patient tested positive and $SARS.Cov.2.exam.result = 0$, otherwise."
   ]
  },
  {
   "cell_type": "code",
   "execution_count": 3,
   "metadata": {
    "_kg_hide-input": true
   },
   "outputs": [],
   "source": [
    "outcome.var<-\"SARS.Cov.2.exam.result\"\n",
    "data[, outcome.var] <- as.integer(data[, outcome.var]) - 1"
   ]
  },
  {
   "cell_type": "markdown",
   "metadata": {},
   "source": [
    "As observed below, most of the variables have a very high percentage of missing values (NA's). The concern here is that these predictors may become zero-variance predictors when the data are split into cross-validation/bootstrap sub-samples in the predictive modeling we propose."
   ]
  },
  {
   "cell_type": "code",
   "execution_count": 4,
   "metadata": {
    "_kg_hide-input": true
   },
   "outputs": [
    {
     "data": {
      "image/png": "[encoded data removed]"
     },
     "metadata": {
      "image/png": {
       "height": 420,
       "width": 420
      }
     },
     "output_type": "display_data"
    }
   ],
   "source": [
    "countNA<-function(x){sum(is.na(x))}\n",
    "x<-apply(data, 2, countNA)/nrow(data)\n",
    "plot(density(x/nrow(data)), main=\"Most variables have a high percentage of missing values\", xlab=\"Percentage of NA's per variable\")"
   ]
  },
  {
   "cell_type": "markdown",
   "metadata": {},
   "source": [
    "Hence, we remove variables that have too many missing data points (>= 95%). We also remove samples that are too sparse in laboratory data, we choose to keep negative samples that have at least 10 variables with data points available. This is performed to avoid an overfit scenario where a few samples (sparse but positive) may have an undue influence on the predictive model."
   ]
  },
  {
   "cell_type": "code",
   "execution_count": 5,
   "metadata": {},
   "outputs": [],
   "source": [
    "data.saved<-data\n",
    "data.size<-nrow(data)\n",
    "not.na.pct <- 0.05\n",
    "data <- delete.na(data, n = data.size * not.na.pct, is.row = FALSE)\n",
    "\n",
    "\n",
    "data.pos <- data[data$SARS.Cov.2.exam.result==1,]\n",
    "data.neg <-  data[data$SARS.Cov.2.exam.result==0,]\n",
    "\n",
    "### delete poor samples\n",
    "min.non.na.vars <- 10\n",
    "data.neg <- delete.na(data.neg, n = min.non.na.vars)\n",
    "\n",
    "data <- rbind(data.pos, data.neg)"
   ]
  },
  {
   "cell_type": "markdown",
   "metadata": {},
   "source": [
    "The following variables were dropped:"
   ]
  },
  {
   "cell_type": "code",
   "execution_count": 6,
   "metadata": {
    "_kg_hide-input": true
   },
   "outputs": [
    {
     "name": "stdout",
     "output_type": "stream",
     "text": [
      " [1] \"Serum.Glucose\"                            \n",
      " [2] \"Mycoplasma.pneumoniae\"                    \n",
      " [3] \"Alanine.transaminase\"                     \n",
      " [4] \"Aspartate.transaminase\"                   \n",
      " [5] \"Gamma.glutamyltransferase.\"               \n",
      " [6] \"Total.Bilirubin\"                          \n",
      " [7] \"Direct.Bilirubin\"                         \n",
      " [8] \"Indirect.Bilirubin\"                       \n",
      " [9] \"Alkaline.phosphatase\"                     \n",
      "[10] \"Ionized.calcium.\"                         \n",
      "[11] \"Magnesium\"                                \n",
      "[12] \"pCO2..venous.blood.gas.analysis.\"         \n",
      "[13] \"Hb.saturation..venous.blood.gas.analysis.\"\n",
      "[14] \"Base.excess..venous.blood.gas.analysis.\"  \n",
      "[15] \"pO2..venous.blood.gas.analysis.\"          \n",
      "[16] \"Fio2..venous.blood.gas.analysis.\"         \n",
      "[17] \"Total.CO2..venous.blood.gas.analysis.\"    \n",
      "[18] \"pH..venous.blood.gas.analysis.\"           \n",
      "[19] \"HCO3..venous.blood.gas.analysis.\"         \n",
      "[20] \"Rods..\"                                   \n",
      "[21] \"Segmented\"                                \n",
      "[22] \"Promyelocytes\"                            \n",
      "[23] \"Metamyelocytes\"                           \n",
      "[24] \"Myelocytes\"                               \n",
      "[25] \"Myeloblasts\"                              \n",
      "[26] \"Urine...Esterase\"                         \n",
      "[27] \"Urine...Aspect\"                           \n",
      "[28] \"Urine...pH\"                               \n",
      "[29] \"Urine...Hemoglobin\"                       \n",
      "[30] \"Urine...Bile.pigments\"                    \n",
      "[31] \"Urine...Ketone.Bodies\"                    \n",
      "[32] \"Urine...Nitrite\"                          \n",
      "[33] \"Urine...Density\"                          \n",
      "[34] \"Urine...Urobilinogen\"                     \n",
      "[35] \"Urine...Protein\"                          \n",
      "[36] \"Urine...Sugar\"                            \n",
      "[37] \"Urine...Leukocytes\"                       \n",
      "[38] \"Urine...Crystals\"                         \n",
      "[39] \"Urine...Red.blood.cells\"                  \n",
      "[40] \"Urine...Hyaline.cylinders\"                \n",
      "[41] \"Urine...Granular.cylinders\"               \n",
      "[42] \"Urine...Yeasts\"                           \n",
      "[43] \"Urine...Color\"                            \n",
      "[44] \"Partial.thromboplastin.time..PTT..\"       \n",
      "[45] \"Relationship..Patient.Normal.\"            \n",
      "[46] \"International.normalized.ratio..INR.\"     \n",
      "[47] \"Lactic.Dehydrogenase\"                     \n",
      "[48] \"Prothrombin.time..PT...Activity\"          \n",
      "[49] \"Vitamin.B12\"                              \n",
      "[50] \"Creatine.phosphokinase..CPK..\"            \n",
      "[51] \"Ferritin\"                                 \n",
      "[52] \"Arterial.Lactic.Acid\"                     \n",
      "[53] \"Lipase.dosage\"                            \n",
      "[54] \"D.Dimer\"                                  \n",
      "[55] \"Albumin\"                                  \n",
      "[56] \"Hb.saturation..arterial.blood.gases.\"     \n",
      "[57] \"pCO2..arterial.blood.gas.analysis.\"       \n",
      "[58] \"Base.excess..arterial.blood.gas.analysis.\"\n",
      "[59] \"pH..arterial.blood.gas.analysis.\"         \n",
      "[60] \"Total.CO2..arterial.blood.gas.analysis.\"  \n",
      "[61] \"HCO3..arterial.blood.gas.analysis.\"       \n",
      "[62] \"pO2..arterial.blood.gas.analysis.\"        \n",
      "[63] \"Arteiral.Fio2\"                            \n",
      "[64] \"Phosphor\"                                 \n",
      "[65] \"ctO2..arterial.blood.gas.analysis.\"       \n"
     ]
    }
   ],
   "source": [
    "print(setdiff(names(data.saved), names(data)))"
   ]
  },
  {
   "cell_type": "markdown",
   "metadata": {},
   "source": [
    "The remaining variables are the following:"
   ]
  },
  {
   "cell_type": "code",
   "execution_count": 7,
   "metadata": {
    "_kg_hide-input": true
   },
   "outputs": [
    {
     "name": "stdout",
     "output_type": "stream",
     "text": [
      " [1] \"Patient.age.quantile\"                                 \n",
      " [2] \"SARS.Cov.2.exam.result\"                               \n",
      " [3] \"Patient.addmited.to.regular.ward..1.yes..0.no.\"       \n",
      " [4] \"Patient.addmited.to.semi.intensive.unit..1.yes..0.no.\"\n",
      " [5] \"Patient.addmited.to.intensive.care.unit..1.yes..0.no.\"\n",
      " [6] \"Hematocrit\"                                           \n",
      " [7] \"Hemoglobin\"                                           \n",
      " [8] \"Platelets\"                                            \n",
      " [9] \"Mean.platelet.volume\"                                 \n",
      "[10] \"Red.blood.Cells\"                                      \n",
      "[11] \"Lymphocytes\"                                          \n",
      "[12] \"Mean.corpuscular.hemoglobin.concentration..MCHC.\"     \n",
      "[13] \"Leukocytes\"                                           \n",
      "[14] \"Basophils\"                                            \n",
      "[15] \"Mean.corpuscular.hemoglobin..MCH.\"                    \n",
      "[16] \"Eosinophils\"                                          \n",
      "[17] \"Mean.corpuscular.volume..MCV.\"                        \n",
      "[18] \"Monocytes\"                                            \n",
      "[19] \"Red.blood.cell.distribution.width..RDW.\"              \n",
      "[20] \"Respiratory.Syncytial.Virus\"                          \n",
      "[21] \"Influenza.A\"                                          \n",
      "[22] \"Influenza.B\"                                          \n",
      "[23] \"Parainfluenza.1\"                                      \n",
      "[24] \"CoronavirusNL63\"                                      \n",
      "[25] \"Rhinovirus.Enterovirus\"                               \n",
      "[26] \"Coronavirus.HKU1\"                                     \n",
      "[27] \"Parainfluenza.3\"                                      \n",
      "[28] \"Chlamydophila.pneumoniae\"                             \n",
      "[29] \"Adenovirus\"                                           \n",
      "[30] \"Parainfluenza.4\"                                      \n",
      "[31] \"Coronavirus229E\"                                      \n",
      "[32] \"CoronavirusOC43\"                                      \n",
      "[33] \"Inf.A.H1N1.2009\"                                      \n",
      "[34] \"Bordetella.pertussis\"                                 \n",
      "[35] \"Metapneumovirus\"                                      \n",
      "[36] \"Parainfluenza.2\"                                      \n",
      "[37] \"Neutrophils\"                                          \n",
      "[38] \"Urea\"                                                 \n",
      "[39] \"Proteina.C.reativa.mg.dL\"                             \n",
      "[40] \"Creatinine\"                                           \n",
      "[41] \"Potassium\"                                            \n",
      "[42] \"Sodium\"                                               \n",
      "[43] \"Influenza.B..rapid.test\"                              \n",
      "[44] \"Influenza.A..rapid.test\"                              \n",
      "[45] \"Strepto.A\"                                            \n"
     ]
    }
   ],
   "source": [
    "print(names(data))"
   ]
  },
  {
   "cell_type": "markdown",
   "metadata": {},
   "source": [
    "## Predictive Analysis\n",
    "\n",
    "### Model Training\n",
    "\n",
    "To predict the likelihood that a patient is infected with the SARS-Cov2 virus, we split the dataset randomly into training and testing tests in a train-to-test split ratio of 2/3. We decompose the dataset such that the outcome variable also follows the same split ratio between train and test sets.\n"
   ]
  },
  {
   "cell_type": "code",
   "execution_count": 8,
   "metadata": {
    "_kg_hide-output": true
   },
   "outputs": [
    {
     "name": "stderr",
     "output_type": "stream",
     "text": [
      "Loading required package: lattice\n",
      "\n",
      "Loading required package: ggplot2\n",
      "\n",
      "\n",
      "Attaching package: ‘caret’\n",
      "\n",
      "\n",
      "The following object is masked from ‘package:httr’:\n",
      "\n",
      "    progress\n",
      "\n",
      "\n"
     ]
    }
   ],
   "source": [
    "library(caret)\n",
    "set.seed(18101987)\n",
    "SPLIT.RATIO <- 2/3\n",
    "train.index <- createDataPartition(data$SARS.Cov.2.exam.result, p = SPLIT.RATIO, list = FALSE)\n",
    "train <- data[train.index,]\n",
    "test <- data[-train.index,]"
   ]
  },
  {
   "cell_type": "markdown",
   "metadata": {},
   "source": [
    "\n",
    "We train a GBM model using the remaining dataset variables as predictors. We also define a bag fraction which defines the fraction of the training set observations randomly selected to propose the next tree in the expansion. This introduces randomnesses into the model fit and reduces overfitting."
   ]
  },
  {
   "cell_type": "code",
   "execution_count": 9,
   "metadata": {
    "_kg_hide-output": true,
    "collapsed": true
   },
   "outputs": [
    {
     "name": "stderr",
     "output_type": "stream",
     "text": [
      "Loaded gbm 2.1.5\n",
      "\n"
     ]
    },
    {
     "name": "stdout",
     "output_type": "stream",
     "text": [
      "Distribution not specified, assuming bernoulli ...\n"
     ]
    },
    {
     "name": "stderr",
     "output_type": "stream",
     "text": [
      "Warning message in gbm.fit(x = x, y = y, offset = offset, distribution = distribution, :\n",
      "“variable 35: Parainfluenza.2 has no variation.”\n"
     ]
    }
   ],
   "source": [
    "train.features <- setdiff(names(train), c(outcome.var, \"Patient.ID\"))\n",
    "myformula = as.formula(paste0(outcome.var,\" ~ \", paste0(train.features, collapse=\"+\")))\n",
    "\n",
    "BAG.FRACTION <- 0.8\n",
    "library(gbm)\n",
    "gbm.model = gbm(myformula, data = train,\n",
    "                n.trees = 500 ,\n",
    "                bag.fraction = BAG.FRACTION,\n",
    "                verbose=FALSE)"
   ]
  },
  {
   "cell_type": "markdown",
   "metadata": {},
   "source": [
    "### Model Interpretability\n",
    "\n",
    "We evaluate model interpretability by looking at the relative importance of the variables as well as their conditional dependency probability relative to the outcome variable. Model explanations are important because they can be used to improve medical decision-making and guide policy-making initiatives.\n",
    "\n",
    "The top 10 most important variables returned by the model are given below. The importance measures are normalized and they are based on the number of times a variable is selected for tree splitting, weighted by the improvement to the model as a result of each split, and averaged over all trees."
   ]
  },
  {
   "cell_type": "code",
   "execution_count": 10,
   "metadata": {},
   "outputs": [
    {
     "name": "stdout",
     "output_type": "stream",
     "text": [
      "                                                                                          var\n",
      "Rhinovirus.Enterovirus                                                 Rhinovirus.Enterovirus\n",
      "Influenza.B                                                                       Influenza.B\n",
      "Leukocytes                                                                         Leukocytes\n",
      "Platelets                                                                           Platelets\n",
      "Inf.A.H1N1.2009                                                               Inf.A.H1N1.2009\n",
      "Eosinophils                                                                       Eosinophils\n",
      "Patient.addmited.to.regular.ward..1.yes..0.no. Patient.addmited.to.regular.ward..1.yes..0.no.\n",
      "Respiratory.Syncytial.Virus                                       Respiratory.Syncytial.Virus\n",
      "Monocytes                                                                           Monocytes\n",
      "Patient.age.quantile                                                     Patient.age.quantile\n",
      "                                                 rel.inf\n",
      "Rhinovirus.Enterovirus                         36.635163\n",
      "Influenza.B                                    14.506034\n",
      "Leukocytes                                     13.644418\n",
      "Platelets                                       6.335933\n",
      "Inf.A.H1N1.2009                                 6.322404\n",
      "Eosinophils                                     2.906697\n",
      "Patient.addmited.to.regular.ward..1.yes..0.no.  2.765402\n",
      "Respiratory.Syncytial.Virus                     2.728796\n",
      "Monocytes                                       2.720108\n",
      "Patient.age.quantile                            1.604376\n"
     ]
    },
    {
     "data": {
      "image/png": "[encoded data removed]"
     },
     "metadata": {
      "image/png": {
       "height": 420,
       "width": 420
      }
     },
     "output_type": "display_data"
    }
   ],
   "source": [
    "model.summary<-summary(gbm.model, cBars=10)\n",
    "print(model.summary[1:10,])"
   ]
  },
  {
   "cell_type": "markdown",
   "metadata": {},
   "source": [
    "We also analyze the conditional probability plots of the top 5 most important variables below, where the x-axis represents the predictor and the y-axis represents the likelihood of infection (numbers are normalized). We observe the following:\n",
    "\n",
    "1. When Rhinovirus.Enterovirus, Influenza.B or Inf.A.H1N1.2009 are not detected, patients are more likely to test positive for SARS-COV2\n",
    "2. Patients with low Leukocytes or Platelets are more likely to test positive for SARS-COV2"
   ]
  },
  {
   "cell_type": "code",
   "execution_count": 11,
   "metadata": {},
   "outputs": [
    {
     "data": {
      "image/png": "[encoded data removed]"
     },
     "metadata": {
      "image/png": {
       "height": 420,
       "width": 420
      }
     },
     "output_type": "display_data"
    },
    {
     "data": {
      "image/png": "[encoded data removed]"
     },
     "metadata": {
      "image/png": {
       "height": 420,
       "width": 420
      }
     },
     "output_type": "display_data"
    },
    {
     "data": {
      "image/png": "[encoded data removed]"
     },
     "metadata": {
      "image/png": {
       "height": 420,
       "width": 420
      }
     },
     "output_type": "display_data"
    },
    {
     "data": {
      "text/plain": [
       "[[1]]\n",
       "\n",
       "[[2]]\n",
       "\n",
       "[[3]]\n",
       "\n",
       "[[4]]\n",
       "\n",
       "[[5]]\n"
      ]
     },
     "metadata": {},
     "output_type": "display_data"
    },
    {
     "data": {
      "image/png": "[encoded data removed]"
     },
     "metadata": {
      "image/png": {
       "height": 420,
       "width": 420
      }
     },
     "output_type": "display_data"
    },
    {
     "data": {
      "image/png": "[encoded data removed]"
     },
     "metadata": {
      "image/png": {
       "height": 420,
       "width": 420
      }
     },
     "output_type": "display_data"
    }
   ],
   "source": [
    "lapply(as.character(model.summary$var[1:5]), plot.gbm, x=gbm.model)"
   ]
  },
  {
   "cell_type": "markdown",
   "metadata": {},
   "source": [
    "One variable that is widely discussed as a leading indicator of severe COVID-19 cases is age. Hence, we analyze the bivariate relationship between the variable *age_quantile* and the top 5 most important variables discussed previously. We observe that a patient's age quantile can increase the likelihood of SARS-COV2 infection when taken in conjunction with the other top 5 variables studied."
   ]
  },
  {
   "cell_type": "code",
   "execution_count": 12,
   "metadata": {
    "_kg_hide-input": true,
    "collapsed": true
   },
   "outputs": [
    {
     "data": {
      "image/png": "[encoded data removed]"
     },
     "metadata": {
      "image/png": {
       "height": 420,
       "width": 420
      }
     },
     "output_type": "display_data"
    },
    {
     "data": {
      "image/png": "[encoded data removed]"
     },
     "metadata": {
      "image/png": {
       "height": 420,
       "width": 420
      }
     },
     "output_type": "display_data"
    },
    {
     "data": {
      "image/png": "[encoded data removed]"
     },
     "metadata": {
      "image/png": {
       "height": 420,
       "width": 420
      }
     },
     "output_type": "display_data"
    },
    {
     "data": {
      "image/png": "[encoded data removed]"
     },
     "metadata": {
      "image/png": {
       "height": 420,
       "width": 420
      }
     },
     "output_type": "display_data"
    },
    {
     "data": {
      "image/png": "[encoded data removed]"
     },
     "metadata": {
      "image/png": {
       "height": 420,
       "width": 420
      }
     },
     "output_type": "display_data"
    }
   ],
   "source": [
    "plot.gbm(gbm.model, i.var = c(as.character(model.summary$var[1]), 'Patient.age.quantile'),  main=\"Rhinovirus.Enterovirus\")\n",
    "plot.gbm(gbm.model, i.var = c(as.character(model.summary$var[2]), 'Patient.age.quantile'),  main=\"Influenza.B\")\n",
    "plot.gbm(gbm.model, i.var = c(as.character(model.summary$var[3]), 'Patient.age.quantile'),  main=\"Leukocytes\")\n",
    "plot.gbm(gbm.model, i.var = c(as.character(model.summary$var[4]), 'Patient.age.quantile'),  main=\"Platelets\") \n",
    "plot.gbm(gbm.model, i.var = c(as.character(model.summary$var[5]), 'Patient.age.quantile'),  main=\"Inf.A.H1N1.2009\") "
   ]
  },
  {
   "cell_type": "markdown",
   "metadata": {},
   "source": [
    "### Prediction\n",
    "\n",
    "We apply the trained model to the test dataset of 668 patients. We observe that the model performs very well with an AUC of 92%. However, the determination of model's specificity and sensitivity relies on the definition of a likelihood threshold to determine patients that will be considered as likely positive COVID-19 cases among suspected cases.  "
   ]
  },
  {
   "cell_type": "code",
   "execution_count": 13,
   "metadata": {
    "collapsed": true
   },
   "outputs": [
    {
     "name": "stderr",
     "output_type": "stream",
     "text": [
      "Type 'citation(\"pROC\")' for a citation.\n",
      "\n",
      "\n",
      "Attaching package: ‘pROC’\n",
      "\n",
      "\n",
      "The following objects are masked from ‘package:stats’:\n",
      "\n",
      "    cov, smooth, var\n",
      "\n",
      "\n",
      "Setting levels: control = 0, case = 1\n",
      "\n",
      "Setting direction: controls < cases\n",
      "\n"
     ]
    },
    {
     "data": {
      "image/png": "[encoded data removed]"
     },
     "metadata": {
      "image/png": {
       "height": 420,
       "width": 420
      }
     },
     "output_type": "display_data"
    }
   ],
   "source": [
    "library(pROC)\n",
    "test.current.prediction <-predict(gbm.model, newdata = test, n.trees = 500,\n",
    "                                   type=\"response\")\n",
    "\n",
    "x.roc<-roc(response=test$SARS.Cov.2.exam.result, predictor=test.current.prediction)\n",
    "\n",
    "plot(x.roc, ylim=c(0,1),\n",
    "     main=paste('AUC:',round(x.roc$auc[[1]],2)))\n",
    "abline(h=1,col='blue',lwd=2)\n",
    "abline(h=0,col='red',lwd=2)"
   ]
  },
  {
   "cell_type": "markdown",
   "metadata": {},
   "source": [
    "Below we can visualize how the choice of the threshold can influence the sensitivity and specificity of the model (in-sample analysis using train set). A model with high sensitivity achieves good results in finding positive patients among those true positive patients. However, the number of patients predicted to be positive can be too high and impact the model's specificity. Moreover, the hospital may not have enough resources to apply the necessary procedures for all patients assigned with a positive label if that number is too high. Hence, an ideal model is one that is well-balanced, i.e., one that has high sensitivity but it does not over-assign patients with positive labels."
   ]
  },
  {
   "cell_type": "code",
   "execution_count": 14,
   "metadata": {},
   "outputs": [
    {
     "name": "stderr",
     "output_type": "stream",
     "text": [
      "Setting levels: control = 0, case = 1\n",
      "\n",
      "Setting direction: controls < cases\n",
      "\n"
     ]
    },
    {
     "data": {
      "image/png": "[encoded data removed]"
     },
     "metadata": {
      "image/png": {
       "height": 420,
       "width": 420
      }
     },
     "output_type": "display_data"
    }
   ],
   "source": [
    "train.current.prediction <-predict(gbm.model, newdata = train, n.trees = 500,\n",
    "                             type=\"response\")\n",
    "x.roc<-roc(response=train$SARS.Cov.2.exam.result, predictor=train.current.prediction)\n",
    "\n",
    "cc <- coords(x.roc, seq(from = 0, to = 1, by = 0.05), ret=c(\"sensitivity\", \"specificity\", \"threshold\"), transpose = FALSE)\n",
    "\n",
    "library(ggplot2)\n",
    "library(ggthemes)\n",
    "mid<-median(cc$threshold)\n",
    "ggplot(cc, aes(x=sensitivity, y=specificity,\n",
    "               color=threshold, \n",
    "               fill=threshold)) + geom_point(size = 5) + geom_line() +\n",
    "  theme_bw() +\n",
    "  scale_color_gradient2(midpoint=mid, low=\"blue\", mid=\"white\", high=\"red\", space =\"Lab\" ) +\n",
    "  scale_fill_gradient2(midpoint=mid, low=\"blue\", mid=\"white\", high=\"red\", space =\"Lab\" )"
   ]
  },
  {
   "cell_type": "markdown",
   "metadata": {},
   "source": [
    "To determine which likelihood to choose and how to determine which patients to prioritize as more likely to be infected we discuss different scenarios which can be tied to distinct hospital-, city-, state- or country-specific policies. For each scenario, we will select the threshold from the train set that optimizes a given target objective function driven by the policy in the scenario in case.\n",
    "\n",
    "#### Scenario 1: High availability of resources\n",
    "\n",
    "In Scenario 1, we assume that the hospital has high availability of resources. In that way, the model can be relaxed and over-estimate the number of positive cases. Hence, our objective function is one that maximizes sensitivity. \n",
    "\n",
    "We use the train data to select the threshold that maximizes model's sensitivity. We then apply this threshold in the predicted probabilities in the test set. The procedure returns a probability threshold of 1.6% and the model presents a high sensitivity value of 95%, as intended. However, the high recall comes at the cost of specificity, which presents a low value of 34%. Moreover, about 74% of the patients from the test set were labeled as positive, hence the model has limited usage as a prioritization tool."
   ]
  },
  {
   "cell_type": "code",
   "execution_count": 15,
   "metadata": {
    "_kg_hide-output": false,
    "collapsed": true
   },
   "outputs": [
    {
     "name": "stdout",
     "output_type": "stream",
     "text": [
      "[1] \"Optimal threshold = 0.0164039401827982\"\n"
     ]
    },
    {
     "data": {
      "text/html": [
       "0.74251497005988"
      ],
      "text/latex": [
       "0.74251497005988"
      ],
      "text/markdown": [
       "0.74251497005988"
      ],
      "text/plain": [
       "[1] 0.742515"
      ]
     },
     "metadata": {},
     "output_type": "display_data"
    },
    {
     "name": "stderr",
     "output_type": "stream",
     "text": [
      "Setting levels: control = 0, case = 1\n",
      "\n",
      "Setting direction: controls < cases\n",
      "\n"
     ]
    },
    {
     "data": {
      "text/html": [
       "0.922993540640599"
      ],
      "text/latex": [
       "0.922993540640599"
      ],
      "text/markdown": [
       "0.922993540640599"
      ],
      "text/plain": [
       "Area under the curve: 0.923"
      ]
     },
     "metadata": {},
     "output_type": "display_data"
    },
    {
     "name": "stdout",
     "output_type": "stream",
     "text": [
      "          Reference\n",
      "Prediction positive negative\n",
      "  positive      179      317\n",
      "  negative        8      164\n"
     ]
    },
    {
     "data": {
      "text/html": [
       "<style>\n",
       ".dl-inline {width: auto; margin:0; padding: 0}\n",
       ".dl-inline>dt, .dl-inline>dd {float: none; width: auto; display: inline-block}\n",
       ".dl-inline>dt::after {content: \":\\0020\"; padding-right: .5ex}\n",
       ".dl-inline>dt:not(:first-of-type) {padding-left: .5ex}\n",
       "</style><dl class=dl-inline><dt>ROC</dt><dd>0.922993540640599</dd><dt>Sens</dt><dd>0.957219251336898</dd><dt>Spec</dt><dd>0.340956340956341</dd></dl>\n"
      ],
      "text/latex": [
       "\\begin{description*}\n",
       "\\item[ROC] 0.922993540640599\n",
       "\\item[Sens] 0.957219251336898\n",
       "\\item[Spec] 0.340956340956341\n",
       "\\end{description*}\n"
      ],
      "text/markdown": [
       "ROC\n",
       ":   0.922993540640599Sens\n",
       ":   0.957219251336898Spec\n",
       ":   0.340956340956341\n",
       "\n"
      ],
      "text/plain": [
       "      ROC      Sens      Spec \n",
       "0.9229935 0.9572193 0.3409563 "
      ]
     },
     "metadata": {},
     "output_type": "display_data"
    }
   ],
   "source": [
    "library(pROC)\n",
    "train.current.prediction <-predict(gbm.model, newdata = train, n.trees = 500,\n",
    "                             type=\"response\")\n",
    "                             \n",
    "\n",
    "best.th<-coords(roc=x.roc, x=1, input=\"sensitivity\", transpose = FALSE)$threshold\n",
    "print(paste0(\"Optimal threshold = \", best.th))\n",
    "\n",
    "oos.current.prediction <-predict(gbm.model, newdata = test, n.trees = 500,\n",
    "                                   type=\"response\")\n",
    "\n",
    "sum(oos.current.prediction > best.th) / length(oos.current.prediction)\n",
    "oos.x.roc<-roc(test$SARS.Cov.2.exam.result, predictor=oos.current.prediction)\n",
    "\n",
    "auc(oos.x.roc)\n",
    "\n",
    "BinModelPerformance(oos.current.prediction, best.th, test$SARS.Cov.2.exam.result)"
   ]
  },
  {
   "cell_type": "markdown",
   "metadata": {},
   "source": [
    "After making a prediction on the test set, we will then choose a threshold from the train set that maximizes the Youden J's statistic to achieve a well-balanced model. We observe that the model under Scenario 2 now delivers a Sensitivity of 84% compared to 95% from Scenario 1. However, it returns a Specificity of 96% while maintaining a high AUC of 92% (as the choice of threshold does not influence the AUC), hence delivering a more well-balanced model as expected. Moreover, now the model only assigns 26% of the test set with positive labels, showing to be useful as a potential patient prioritization tool."
   ]
  },
  {
   "cell_type": "code",
   "execution_count": 16,
   "metadata": {},
   "outputs": [
    {
     "data": {
      "text/html": [
       "0.74251497005988"
      ],
      "text/latex": [
       "0.74251497005988"
      ],
      "text/markdown": [
       "0.74251497005988"
      ],
      "text/plain": [
       "[1] 0.742515"
      ]
     },
     "metadata": {},
     "output_type": "display_data"
    },
    {
     "name": "stderr",
     "output_type": "stream",
     "text": [
      "Setting levels: control = 0, case = 1\n",
      "\n",
      "Setting direction: controls < cases\n",
      "\n"
     ]
    },
    {
     "name": "stdout",
     "output_type": "stream",
     "text": [
      "          Reference\n",
      "Prediction positive negative\n",
      "  positive      179      317\n",
      "  negative        8      164\n"
     ]
    },
    {
     "data": {
      "text/html": [
       "<style>\n",
       ".dl-inline {width: auto; margin:0; padding: 0}\n",
       ".dl-inline>dt, .dl-inline>dd {float: none; width: auto; display: inline-block}\n",
       ".dl-inline>dt::after {content: \":\\0020\"; padding-right: .5ex}\n",
       ".dl-inline>dt:not(:first-of-type) {padding-left: .5ex}\n",
       "</style><dl class=dl-inline><dt>ROC</dt><dd>0.922993540640599</dd><dt>Sens</dt><dd>0.957219251336898</dd><dt>Spec</dt><dd>0.340956340956341</dd></dl>\n"
      ],
      "text/latex": [
       "\\begin{description*}\n",
       "\\item[ROC] 0.922993540640599\n",
       "\\item[Sens] 0.957219251336898\n",
       "\\item[Spec] 0.340956340956341\n",
       "\\end{description*}\n"
      ],
      "text/markdown": [
       "ROC\n",
       ":   0.922993540640599Sens\n",
       ":   0.957219251336898Spec\n",
       ":   0.340956340956341\n",
       "\n"
      ],
      "text/plain": [
       "      ROC      Sens      Spec \n",
       "0.9229935 0.9572193 0.3409563 "
      ]
     },
     "metadata": {},
     "output_type": "display_data"
    },
    {
     "data": {
      "text/html": [
       "0.922993540640599"
      ],
      "text/latex": [
       "0.922993540640599"
      ],
      "text/markdown": [
       "0.922993540640599"
      ],
      "text/plain": [
       "Area under the curve: 0.923"
      ]
     },
     "metadata": {},
     "output_type": "display_data"
    },
    {
     "data": {
      "image/png": "[encoded data removed]"
     },
     "metadata": {
      "image/png": {
       "height": 420,
       "width": 420
      }
     },
     "output_type": "display_data"
    }
   ],
   "source": [
    "oos.current.prediction <-predict(gbm.model, newdata = test, n.trees = 500,\n",
    "                                 type=\"response\")\n",
    "\n",
    "sum(oos.current.prediction > best.th) / length(oos.current.prediction)\n",
    "oos.x.roc<-roc(test$SARS.Cov.2.exam.result, predictor=oos.current.prediction)\n",
    "\n",
    "BinModelPerformance(oos.current.prediction, best.th,  test$SARS.Cov.2.exam.result)\n",
    "auc(oos.x.roc)\n",
    "\n",
    "# OUT-OF-SAMPLE ROC\n",
    "plot(oos.x.roc, ylim=c(0,1), print.thres=\"best\", print.thres.best.method=\"youden\",\n",
    "     main=paste('AUC:',round(oos.x.roc$auc[[1]],2)))\n",
    "abline(h=1,col='blue',lwd=2)\n",
    "abline(h=0,col='red',lwd=2)"
   ]
  },
  {
   "cell_type": "markdown",
   "metadata": {},
   "source": [
    "#### Scenario 3: Limited resources, different policies\n",
    "\n",
    "In Scenario 3, we incorporate the assumption that different hospitals might have different policies on what is an acceptable value for sensitivity or have different capacities to test prioritized pacients as well as have different prevalence levels. Hence, we generalize the models studied under Scenarios 1 and 2 by proposing a parameterized model with a cost function that allows doctors to over- or under-weight false negative classification as compared with a false positive classification depending on a target policy as well as input prevalence as input parameter.\n",
    "\n",
    "Our objective function is\n",
    "\n",
    "$max(sensitivity + r*specificy)$, \n",
    "\n",
    "where \n",
    "\n",
    "$r = 1 - prevalence / cost * prevalence$ \n",
    "\n",
    "and $r$ is the relative cost of a false negative classification (as compared with a false positive classification).Different countries and regions can have different prevalence, while different hospitals might have different policies to define the $cost$ parameter.\n",
    "\n",
    "Our findings indicate that a practical model can be delivered with both specificity and sensitivity greater than 85% with the percentage number of patients ($num.positivie.pct$) labeled as positive lower than 30%, hence serving as a relevant prioritization tool. Moreover, the model is parametrized to allow for easy fine-tuning to adjust for target Sensitivity, prevalence or max number of patients to be prioritized.\n",
    "\n",
    "In practice, health workers/hospitals using the proposed model would define a policy for a minimum acceptable Sensitivity level as well as target number of patients to be prioritized and current prevalence. These will serve as input parameters for the model to determine patients that would be prioritized as likely to test positive. The model would then output the likelihood of infection and accuracy, which can be used as a tool for prioritization and to support further medical decision making processes. On a periodic basis, input parameters/policy can be updated depending on health system conditions and the model would be re-trained also incorporation newly available data on an ongoing basis."
   ]
  },
  {
   "cell_type": "code",
   "execution_count": 17,
   "metadata": {
    "_kg_hide-output": true,
    "collapsed": true
   },
   "outputs": [
    {
     "name": "stdout",
     "output_type": "stream",
     "text": [
      "          Reference\n",
      "Prediction positive negative\n",
      "  positive      155       13\n",
      "  negative       32      468\n"
     ]
    },
    {
     "name": "stderr",
     "output_type": "stream",
     "text": [
      "Setting levels: control = 0, case = 1\n",
      "\n",
      "Setting direction: controls < cases\n",
      "\n"
     ]
    },
    {
     "name": "stdout",
     "output_type": "stream",
     "text": [
      "          Reference\n",
      "Prediction positive negative\n",
      "  positive      155       14\n",
      "  negative       32      467\n"
     ]
    },
    {
     "name": "stderr",
     "output_type": "stream",
     "text": [
      "Setting levels: control = 0, case = 1\n",
      "\n",
      "Setting direction: controls < cases\n",
      "\n"
     ]
    },
    {
     "name": "stdout",
     "output_type": "stream",
     "text": [
      "          Reference\n",
      "Prediction positive negative\n",
      "  positive      155       14\n",
      "  negative       32      467\n"
     ]
    },
    {
     "name": "stderr",
     "output_type": "stream",
     "text": [
      "Setting levels: control = 0, case = 1\n",
      "\n",
      "Setting direction: controls < cases\n",
      "\n"
     ]
    },
    {
     "name": "stdout",
     "output_type": "stream",
     "text": [
      "          Reference\n",
      "Prediction positive negative\n",
      "  positive      158       22\n",
      "  negative       29      459\n"
     ]
    },
    {
     "name": "stderr",
     "output_type": "stream",
     "text": [
      "Setting levels: control = 0, case = 1\n",
      "\n",
      "Setting direction: controls < cases\n",
      "\n"
     ]
    },
    {
     "name": "stdout",
     "output_type": "stream",
     "text": [
      "          Reference\n",
      "Prediction positive negative\n",
      "  positive      158       22\n",
      "  negative       29      459\n"
     ]
    },
    {
     "name": "stderr",
     "output_type": "stream",
     "text": [
      "Setting levels: control = 0, case = 1\n",
      "\n",
      "Setting direction: controls < cases\n",
      "\n"
     ]
    },
    {
     "name": "stdout",
     "output_type": "stream",
     "text": [
      "          Reference\n",
      "Prediction positive negative\n",
      "  positive      158       22\n",
      "  negative       29      459\n"
     ]
    },
    {
     "name": "stderr",
     "output_type": "stream",
     "text": [
      "Setting levels: control = 0, case = 1\n",
      "\n",
      "Setting direction: controls < cases\n",
      "\n"
     ]
    },
    {
     "name": "stdout",
     "output_type": "stream",
     "text": [
      "          Reference\n",
      "Prediction positive negative\n",
      "  positive      158       22\n",
      "  negative       29      459\n"
     ]
    },
    {
     "name": "stderr",
     "output_type": "stream",
     "text": [
      "Setting levels: control = 0, case = 1\n",
      "\n",
      "Setting direction: controls < cases\n",
      "\n"
     ]
    },
    {
     "name": "stdout",
     "output_type": "stream",
     "text": [
      "          Reference\n",
      "Prediction positive negative\n",
      "  positive      158       22\n",
      "  negative       29      459\n"
     ]
    },
    {
     "name": "stderr",
     "output_type": "stream",
     "text": [
      "Setting levels: control = 0, case = 1\n",
      "\n",
      "Setting direction: controls < cases\n",
      "\n"
     ]
    },
    {
     "name": "stdout",
     "output_type": "stream",
     "text": [
      "          Reference\n",
      "Prediction positive negative\n",
      "  positive      158       22\n",
      "  negative       29      459\n"
     ]
    },
    {
     "name": "stderr",
     "output_type": "stream",
     "text": [
      "Setting levels: control = 0, case = 1\n",
      "\n",
      "Setting direction: controls < cases\n",
      "\n"
     ]
    },
    {
     "name": "stdout",
     "output_type": "stream",
     "text": [
      "          Reference\n",
      "Prediction positive negative\n",
      "  positive      158       22\n",
      "  negative       29      459\n"
     ]
    },
    {
     "name": "stderr",
     "output_type": "stream",
     "text": [
      "Setting levels: control = 0, case = 1\n",
      "\n",
      "Setting direction: controls < cases\n",
      "\n"
     ]
    },
    {
     "name": "stdout",
     "output_type": "stream",
     "text": [
      "          Reference\n",
      "Prediction positive negative\n",
      "  positive      158       22\n",
      "  negative       29      459\n"
     ]
    },
    {
     "name": "stderr",
     "output_type": "stream",
     "text": [
      "Setting levels: control = 0, case = 1\n",
      "\n",
      "Setting direction: controls < cases\n",
      "\n"
     ]
    },
    {
     "name": "stdout",
     "output_type": "stream",
     "text": [
      "          Reference\n",
      "Prediction positive negative\n",
      "  positive      158       22\n",
      "  negative       29      459\n"
     ]
    },
    {
     "name": "stderr",
     "output_type": "stream",
     "text": [
      "Setting levels: control = 0, case = 1\n",
      "\n",
      "Setting direction: controls < cases\n",
      "\n"
     ]
    },
    {
     "name": "stdout",
     "output_type": "stream",
     "text": [
      "          Reference\n",
      "Prediction positive negative\n",
      "  positive      158       22\n",
      "  negative       29      459\n"
     ]
    },
    {
     "name": "stderr",
     "output_type": "stream",
     "text": [
      "Setting levels: control = 0, case = 1\n",
      "\n",
      "Setting direction: controls < cases\n",
      "\n"
     ]
    },
    {
     "name": "stdout",
     "output_type": "stream",
     "text": [
      "          Reference\n",
      "Prediction positive negative\n",
      "  positive      158       22\n",
      "  negative       29      459\n"
     ]
    },
    {
     "name": "stderr",
     "output_type": "stream",
     "text": [
      "Setting levels: control = 0, case = 1\n",
      "\n",
      "Setting direction: controls < cases\n",
      "\n"
     ]
    },
    {
     "name": "stdout",
     "output_type": "stream",
     "text": [
      "          Reference\n",
      "Prediction positive negative\n",
      "  positive      158       22\n",
      "  negative       29      459\n"
     ]
    },
    {
     "name": "stderr",
     "output_type": "stream",
     "text": [
      "Setting levels: control = 0, case = 1\n",
      "\n",
      "Setting direction: controls < cases\n",
      "\n"
     ]
    },
    {
     "name": "stdout",
     "output_type": "stream",
     "text": [
      "          Reference\n",
      "Prediction positive negative\n",
      "  positive      158       22\n",
      "  negative       29      459\n"
     ]
    },
    {
     "name": "stderr",
     "output_type": "stream",
     "text": [
      "Setting levels: control = 0, case = 1\n",
      "\n",
      "Setting direction: controls < cases\n",
      "\n"
     ]
    },
    {
     "name": "stdout",
     "output_type": "stream",
     "text": [
      "          Reference\n",
      "Prediction positive negative\n",
      "  positive      158       22\n",
      "  negative       29      459\n"
     ]
    },
    {
     "name": "stderr",
     "output_type": "stream",
     "text": [
      "Setting levels: control = 0, case = 1\n",
      "\n",
      "Setting direction: controls < cases\n",
      "\n"
     ]
    },
    {
     "name": "stdout",
     "output_type": "stream",
     "text": [
      "          Reference\n",
      "Prediction positive negative\n",
      "  positive      158       22\n",
      "  negative       29      459\n"
     ]
    },
    {
     "name": "stderr",
     "output_type": "stream",
     "text": [
      "Setting levels: control = 0, case = 1\n",
      "\n",
      "Setting direction: controls < cases\n",
      "\n"
     ]
    },
    {
     "name": "stdout",
     "output_type": "stream",
     "text": [
      "          Reference\n",
      "Prediction positive negative\n",
      "  positive      158       22\n",
      "  negative       29      459\n"
     ]
    },
    {
     "name": "stderr",
     "output_type": "stream",
     "text": [
      "Setting levels: control = 0, case = 1\n",
      "\n",
      "Setting direction: controls < cases\n",
      "\n"
     ]
    },
    {
     "name": "stdout",
     "output_type": "stream",
     "text": [
      "          Reference\n",
      "Prediction positive negative\n",
      "  positive      158       22\n",
      "  negative       29      459\n"
     ]
    },
    {
     "name": "stderr",
     "output_type": "stream",
     "text": [
      "Setting levels: control = 0, case = 1\n",
      "\n",
      "Setting direction: controls < cases\n",
      "\n"
     ]
    },
    {
     "name": "stdout",
     "output_type": "stream",
     "text": [
      "          Reference\n",
      "Prediction positive negative\n",
      "  positive      158       23\n",
      "  negative       29      458\n"
     ]
    },
    {
     "name": "stderr",
     "output_type": "stream",
     "text": [
      "Setting levels: control = 0, case = 1\n",
      "\n",
      "Setting direction: controls < cases\n",
      "\n"
     ]
    },
    {
     "name": "stdout",
     "output_type": "stream",
     "text": [
      "          Reference\n",
      "Prediction positive negative\n",
      "  positive      158       23\n",
      "  negative       29      458\n"
     ]
    },
    {
     "name": "stderr",
     "output_type": "stream",
     "text": [
      "Setting levels: control = 0, case = 1\n",
      "\n",
      "Setting direction: controls < cases\n",
      "\n"
     ]
    },
    {
     "name": "stdout",
     "output_type": "stream",
     "text": [
      "          Reference\n",
      "Prediction positive negative\n",
      "  positive      158       23\n",
      "  negative       29      458\n"
     ]
    },
    {
     "name": "stderr",
     "output_type": "stream",
     "text": [
      "Setting levels: control = 0, case = 1\n",
      "\n",
      "Setting direction: controls < cases\n",
      "\n"
     ]
    },
    {
     "name": "stdout",
     "output_type": "stream",
     "text": [
      "          Reference\n",
      "Prediction positive negative\n",
      "  positive      158       23\n",
      "  negative       29      458\n"
     ]
    },
    {
     "name": "stderr",
     "output_type": "stream",
     "text": [
      "Setting levels: control = 0, case = 1\n",
      "\n",
      "Setting direction: controls < cases\n",
      "\n"
     ]
    },
    {
     "name": "stdout",
     "output_type": "stream",
     "text": [
      "          Reference\n",
      "Prediction positive negative\n",
      "  positive      158       23\n",
      "  negative       29      458\n"
     ]
    },
    {
     "name": "stderr",
     "output_type": "stream",
     "text": [
      "Setting levels: control = 0, case = 1\n",
      "\n",
      "Setting direction: controls < cases\n",
      "\n"
     ]
    },
    {
     "name": "stdout",
     "output_type": "stream",
     "text": [
      "          Reference\n",
      "Prediction positive negative\n",
      "  positive      158       23\n",
      "  negative       29      458\n"
     ]
    },
    {
     "name": "stderr",
     "output_type": "stream",
     "text": [
      "Setting levels: control = 0, case = 1\n",
      "\n",
      "Setting direction: controls < cases\n",
      "\n"
     ]
    },
    {
     "name": "stdout",
     "output_type": "stream",
     "text": [
      "          Reference\n",
      "Prediction positive negative\n",
      "  positive      158       23\n",
      "  negative       29      458\n"
     ]
    },
    {
     "name": "stderr",
     "output_type": "stream",
     "text": [
      "Setting levels: control = 0, case = 1\n",
      "\n",
      "Setting direction: controls < cases\n",
      "\n"
     ]
    },
    {
     "name": "stdout",
     "output_type": "stream",
     "text": [
      "          Reference\n",
      "Prediction positive negative\n",
      "  positive      158       23\n",
      "  negative       29      458\n"
     ]
    },
    {
     "name": "stderr",
     "output_type": "stream",
     "text": [
      "Setting levels: control = 0, case = 1\n",
      "\n",
      "Setting direction: controls < cases\n",
      "\n"
     ]
    },
    {
     "name": "stdout",
     "output_type": "stream",
     "text": [
      "          Reference\n",
      "Prediction positive negative\n",
      "  positive      172      151\n",
      "  negative       15      330\n"
     ]
    },
    {
     "name": "stderr",
     "output_type": "stream",
     "text": [
      "Setting levels: control = 0, case = 1\n",
      "\n",
      "Setting direction: controls < cases\n",
      "\n"
     ]
    },
    {
     "name": "stdout",
     "output_type": "stream",
     "text": [
      "          Reference\n",
      "Prediction positive negative\n",
      "  positive      174      166\n",
      "  negative       13      315\n"
     ]
    },
    {
     "name": "stderr",
     "output_type": "stream",
     "text": [
      "Setting levels: control = 0, case = 1\n",
      "\n",
      "Setting direction: controls < cases\n",
      "\n"
     ]
    },
    {
     "name": "stdout",
     "output_type": "stream",
     "text": [
      "          Reference\n",
      "Prediction positive negative\n",
      "  positive      174      166\n",
      "  negative       13      315\n"
     ]
    },
    {
     "name": "stderr",
     "output_type": "stream",
     "text": [
      "Setting levels: control = 0, case = 1\n",
      "\n",
      "Setting direction: controls < cases\n",
      "\n"
     ]
    },
    {
     "name": "stdout",
     "output_type": "stream",
     "text": [
      "          Reference\n",
      "Prediction positive negative\n",
      "  positive      174      166\n",
      "  negative       13      315\n"
     ]
    },
    {
     "name": "stderr",
     "output_type": "stream",
     "text": [
      "Setting levels: control = 0, case = 1\n",
      "\n",
      "Setting direction: controls < cases\n",
      "\n"
     ]
    },
    {
     "name": "stdout",
     "output_type": "stream",
     "text": [
      "          Reference\n",
      "Prediction positive negative\n",
      "  positive      174      166\n",
      "  negative       13      315\n"
     ]
    },
    {
     "name": "stderr",
     "output_type": "stream",
     "text": [
      "Setting levels: control = 0, case = 1\n",
      "\n",
      "Setting direction: controls < cases\n",
      "\n"
     ]
    },
    {
     "name": "stdout",
     "output_type": "stream",
     "text": [
      "          Reference\n",
      "Prediction positive negative\n",
      "  positive      174      166\n",
      "  negative       13      315\n"
     ]
    },
    {
     "name": "stderr",
     "output_type": "stream",
     "text": [
      "Setting levels: control = 0, case = 1\n",
      "\n",
      "Setting direction: controls < cases\n",
      "\n"
     ]
    },
    {
     "name": "stdout",
     "output_type": "stream",
     "text": [
      "          Reference\n",
      "Prediction positive negative\n",
      "  positive      174      166\n",
      "  negative       13      315\n"
     ]
    },
    {
     "name": "stderr",
     "output_type": "stream",
     "text": [
      "Setting levels: control = 0, case = 1\n",
      "\n",
      "Setting direction: controls < cases\n",
      "\n"
     ]
    },
    {
     "name": "stdout",
     "output_type": "stream",
     "text": [
      "          Reference\n",
      "Prediction positive negative\n",
      "  positive      174      166\n",
      "  negative       13      315\n"
     ]
    },
    {
     "name": "stderr",
     "output_type": "stream",
     "text": [
      "Setting levels: control = 0, case = 1\n",
      "\n",
      "Setting direction: controls < cases\n",
      "\n"
     ]
    },
    {
     "name": "stdout",
     "output_type": "stream",
     "text": [
      "          Reference\n",
      "Prediction positive negative\n",
      "  positive      174      166\n",
      "  negative       13      315\n"
     ]
    },
    {
     "name": "stderr",
     "output_type": "stream",
     "text": [
      "Setting levels: control = 0, case = 1\n",
      "\n",
      "Setting direction: controls < cases\n",
      "\n"
     ]
    },
    {
     "name": "stdout",
     "output_type": "stream",
     "text": [
      "          Reference\n",
      "Prediction positive negative\n",
      "  positive      174      166\n",
      "  negative       13      315\n"
     ]
    },
    {
     "name": "stderr",
     "output_type": "stream",
     "text": [
      "Setting levels: control = 0, case = 1\n",
      "\n",
      "Setting direction: controls < cases\n",
      "\n"
     ]
    },
    {
     "name": "stdout",
     "output_type": "stream",
     "text": [
      "          Reference\n",
      "Prediction positive negative\n",
      "  positive      174      166\n",
      "  negative       13      315\n"
     ]
    },
    {
     "name": "stderr",
     "output_type": "stream",
     "text": [
      "Setting levels: control = 0, case = 1\n",
      "\n",
      "Setting direction: controls < cases\n",
      "\n"
     ]
    },
    {
     "name": "stdout",
     "output_type": "stream",
     "text": [
      "          Reference\n",
      "Prediction positive negative\n",
      "  positive      174      166\n",
      "  negative       13      315\n"
     ]
    },
    {
     "name": "stderr",
     "output_type": "stream",
     "text": [
      "Setting levels: control = 0, case = 1\n",
      "\n",
      "Setting direction: controls < cases\n",
      "\n"
     ]
    },
    {
     "name": "stdout",
     "output_type": "stream",
     "text": [
      "          Reference\n",
      "Prediction positive negative\n",
      "  positive      174      166\n",
      "  negative       13      315\n"
     ]
    },
    {
     "name": "stderr",
     "output_type": "stream",
     "text": [
      "Setting levels: control = 0, case = 1\n",
      "\n",
      "Setting direction: controls < cases\n",
      "\n"
     ]
    },
    {
     "name": "stdout",
     "output_type": "stream",
     "text": [
      "          Reference\n",
      "Prediction positive negative\n",
      "  positive      174      166\n",
      "  negative       13      315\n"
     ]
    },
    {
     "name": "stderr",
     "output_type": "stream",
     "text": [
      "Setting levels: control = 0, case = 1\n",
      "\n",
      "Setting direction: controls < cases\n",
      "\n"
     ]
    },
    {
     "name": "stdout",
     "output_type": "stream",
     "text": [
      "          Reference\n",
      "Prediction positive negative\n",
      "  positive      174      166\n",
      "  negative       13      315\n"
     ]
    },
    {
     "name": "stderr",
     "output_type": "stream",
     "text": [
      "Setting levels: control = 0, case = 1\n",
      "\n",
      "Setting direction: controls < cases\n",
      "\n"
     ]
    },
    {
     "name": "stdout",
     "output_type": "stream",
     "text": [
      "          Reference\n",
      "Prediction positive negative\n",
      "  positive      174      166\n",
      "  negative       13      315\n"
     ]
    },
    {
     "name": "stderr",
     "output_type": "stream",
     "text": [
      "Setting levels: control = 0, case = 1\n",
      "\n",
      "Setting direction: controls < cases\n",
      "\n"
     ]
    },
    {
     "name": "stdout",
     "output_type": "stream",
     "text": [
      "          Reference\n",
      "Prediction positive negative\n",
      "  positive      174      166\n",
      "  negative       13      315\n"
     ]
    },
    {
     "name": "stderr",
     "output_type": "stream",
     "text": [
      "Setting levels: control = 0, case = 1\n",
      "\n",
      "Setting direction: controls < cases\n",
      "\n"
     ]
    },
    {
     "name": "stdout",
     "output_type": "stream",
     "text": [
      "          Reference\n",
      "Prediction positive negative\n",
      "  positive      174      166\n",
      "  negative       13      315\n"
     ]
    },
    {
     "name": "stderr",
     "output_type": "stream",
     "text": [
      "Setting levels: control = 0, case = 1\n",
      "\n",
      "Setting direction: controls < cases\n",
      "\n"
     ]
    },
    {
     "name": "stdout",
     "output_type": "stream",
     "text": [
      "          Reference\n",
      "Prediction positive negative\n",
      "  positive      174      166\n",
      "  negative       13      315\n"
     ]
    },
    {
     "name": "stderr",
     "output_type": "stream",
     "text": [
      "Setting levels: control = 0, case = 1\n",
      "\n",
      "Setting direction: controls < cases\n",
      "\n"
     ]
    },
    {
     "name": "stdout",
     "output_type": "stream",
     "text": [
      "          Reference\n",
      "Prediction positive negative\n",
      "  positive      174      166\n",
      "  negative       13      315\n"
     ]
    },
    {
     "name": "stderr",
     "output_type": "stream",
     "text": [
      "Setting levels: control = 0, case = 1\n",
      "\n",
      "Setting direction: controls < cases\n",
      "\n"
     ]
    },
    {
     "name": "stdout",
     "output_type": "stream",
     "text": [
      "          Reference\n",
      "Prediction positive negative\n",
      "  positive      174      166\n",
      "  negative       13      315\n"
     ]
    },
    {
     "name": "stderr",
     "output_type": "stream",
     "text": [
      "Setting levels: control = 0, case = 1\n",
      "\n",
      "Setting direction: controls < cases\n",
      "\n"
     ]
    },
    {
     "name": "stdout",
     "output_type": "stream",
     "text": [
      "          Reference\n",
      "Prediction positive negative\n",
      "  positive      174      166\n",
      "  negative       13      315\n"
     ]
    },
    {
     "name": "stderr",
     "output_type": "stream",
     "text": [
      "Setting levels: control = 0, case = 1\n",
      "\n",
      "Setting direction: controls < cases\n",
      "\n"
     ]
    },
    {
     "name": "stdout",
     "output_type": "stream",
     "text": [
      "          Reference\n",
      "Prediction positive negative\n",
      "  positive      174      166\n",
      "  negative       13      315\n"
     ]
    },
    {
     "name": "stderr",
     "output_type": "stream",
     "text": [
      "Setting levels: control = 0, case = 1\n",
      "\n",
      "Setting direction: controls < cases\n",
      "\n"
     ]
    },
    {
     "name": "stdout",
     "output_type": "stream",
     "text": [
      "          Reference\n",
      "Prediction positive negative\n",
      "  positive      174      166\n",
      "  negative       13      315\n"
     ]
    },
    {
     "name": "stderr",
     "output_type": "stream",
     "text": [
      "Setting levels: control = 0, case = 1\n",
      "\n",
      "Setting direction: controls < cases\n",
      "\n"
     ]
    },
    {
     "name": "stdout",
     "output_type": "stream",
     "text": [
      "          Reference\n",
      "Prediction positive negative\n",
      "  positive      174      166\n",
      "  negative       13      315\n"
     ]
    },
    {
     "name": "stderr",
     "output_type": "stream",
     "text": [
      "Setting levels: control = 0, case = 1\n",
      "\n",
      "Setting direction: controls < cases\n",
      "\n"
     ]
    },
    {
     "name": "stdout",
     "output_type": "stream",
     "text": [
      "          Reference\n",
      "Prediction positive negative\n",
      "  positive      174      166\n",
      "  negative       13      315\n"
     ]
    },
    {
     "name": "stderr",
     "output_type": "stream",
     "text": [
      "Setting levels: control = 0, case = 1\n",
      "\n",
      "Setting direction: controls < cases\n",
      "\n"
     ]
    },
    {
     "name": "stdout",
     "output_type": "stream",
     "text": [
      "          Reference\n",
      "Prediction positive negative\n",
      "  positive      174      166\n",
      "  negative       13      315\n"
     ]
    },
    {
     "name": "stderr",
     "output_type": "stream",
     "text": [
      "Setting levels: control = 0, case = 1\n",
      "\n",
      "Setting direction: controls < cases\n",
      "\n"
     ]
    },
    {
     "name": "stdout",
     "output_type": "stream",
     "text": [
      "          Reference\n",
      "Prediction positive negative\n",
      "  positive      174      166\n",
      "  negative       13      315\n"
     ]
    },
    {
     "name": "stderr",
     "output_type": "stream",
     "text": [
      "Setting levels: control = 0, case = 1\n",
      "\n",
      "Setting direction: controls < cases\n",
      "\n"
     ]
    },
    {
     "name": "stdout",
     "output_type": "stream",
     "text": [
      "          Reference\n",
      "Prediction positive negative\n",
      "  positive      174      166\n",
      "  negative       13      315\n"
     ]
    },
    {
     "name": "stderr",
     "output_type": "stream",
     "text": [
      "Setting levels: control = 0, case = 1\n",
      "\n",
      "Setting direction: controls < cases\n",
      "\n"
     ]
    },
    {
     "name": "stdout",
     "output_type": "stream",
     "text": [
      "          Reference\n",
      "Prediction positive negative\n",
      "  positive      174      166\n",
      "  negative       13      315\n"
     ]
    },
    {
     "name": "stderr",
     "output_type": "stream",
     "text": [
      "Setting levels: control = 0, case = 1\n",
      "\n",
      "Setting direction: controls < cases\n",
      "\n"
     ]
    },
    {
     "name": "stdout",
     "output_type": "stream",
     "text": [
      "          Reference\n",
      "Prediction positive negative\n",
      "  positive      174      166\n",
      "  negative       13      315\n"
     ]
    },
    {
     "name": "stderr",
     "output_type": "stream",
     "text": [
      "Setting levels: control = 0, case = 1\n",
      "\n",
      "Setting direction: controls < cases\n",
      "\n"
     ]
    },
    {
     "name": "stdout",
     "output_type": "stream",
     "text": [
      "          Reference\n",
      "Prediction positive negative\n",
      "  positive      174      166\n",
      "  negative       13      315\n"
     ]
    },
    {
     "name": "stderr",
     "output_type": "stream",
     "text": [
      "Setting levels: control = 0, case = 1\n",
      "\n",
      "Setting direction: controls < cases\n",
      "\n"
     ]
    },
    {
     "name": "stdout",
     "output_type": "stream",
     "text": [
      "          Reference\n",
      "Prediction positive negative\n",
      "  positive      174      166\n",
      "  negative       13      315\n"
     ]
    },
    {
     "name": "stderr",
     "output_type": "stream",
     "text": [
      "Setting levels: control = 0, case = 1\n",
      "\n",
      "Setting direction: controls < cases\n",
      "\n"
     ]
    },
    {
     "name": "stdout",
     "output_type": "stream",
     "text": [
      "          Reference\n",
      "Prediction positive negative\n",
      "  positive      174      166\n",
      "  negative       13      315\n"
     ]
    },
    {
     "name": "stderr",
     "output_type": "stream",
     "text": [
      "Setting levels: control = 0, case = 1\n",
      "\n",
      "Setting direction: controls < cases\n",
      "\n"
     ]
    },
    {
     "name": "stdout",
     "output_type": "stream",
     "text": [
      "          Reference\n",
      "Prediction positive negative\n",
      "  positive      174      166\n",
      "  negative       13      315\n"
     ]
    },
    {
     "name": "stderr",
     "output_type": "stream",
     "text": [
      "Setting levels: control = 0, case = 1\n",
      "\n",
      "Setting direction: controls < cases\n",
      "\n"
     ]
    },
    {
     "name": "stdout",
     "output_type": "stream",
     "text": [
      "          Reference\n",
      "Prediction positive negative\n",
      "  positive      174      166\n",
      "  negative       13      315\n"
     ]
    },
    {
     "name": "stderr",
     "output_type": "stream",
     "text": [
      "Setting levels: control = 0, case = 1\n",
      "\n",
      "Setting direction: controls < cases\n",
      "\n"
     ]
    },
    {
     "name": "stdout",
     "output_type": "stream",
     "text": [
      "          Reference\n",
      "Prediction positive negative\n",
      "  positive      174      166\n",
      "  negative       13      315\n"
     ]
    },
    {
     "name": "stderr",
     "output_type": "stream",
     "text": [
      "Setting levels: control = 0, case = 1\n",
      "\n",
      "Setting direction: controls < cases\n",
      "\n"
     ]
    },
    {
     "name": "stdout",
     "output_type": "stream",
     "text": [
      "          Reference\n",
      "Prediction positive negative\n",
      "  positive      174      166\n",
      "  negative       13      315\n"
     ]
    },
    {
     "name": "stderr",
     "output_type": "stream",
     "text": [
      "Setting levels: control = 0, case = 1\n",
      "\n",
      "Setting direction: controls < cases\n",
      "\n"
     ]
    },
    {
     "name": "stdout",
     "output_type": "stream",
     "text": [
      "          Reference\n",
      "Prediction positive negative\n",
      "  positive      174      166\n",
      "  negative       13      315\n"
     ]
    },
    {
     "name": "stderr",
     "output_type": "stream",
     "text": [
      "Setting levels: control = 0, case = 1\n",
      "\n",
      "Setting direction: controls < cases\n",
      "\n"
     ]
    },
    {
     "name": "stdout",
     "output_type": "stream",
     "text": [
      "          Reference\n",
      "Prediction positive negative\n",
      "  positive      174      166\n",
      "  negative       13      315\n"
     ]
    },
    {
     "name": "stderr",
     "output_type": "stream",
     "text": [
      "Setting levels: control = 0, case = 1\n",
      "\n",
      "Setting direction: controls < cases\n",
      "\n"
     ]
    },
    {
     "name": "stdout",
     "output_type": "stream",
     "text": [
      "          Reference\n",
      "Prediction positive negative\n",
      "  positive      174      166\n",
      "  negative       13      315\n"
     ]
    },
    {
     "name": "stderr",
     "output_type": "stream",
     "text": [
      "Setting levels: control = 0, case = 1\n",
      "\n",
      "Setting direction: controls < cases\n",
      "\n"
     ]
    },
    {
     "name": "stdout",
     "output_type": "stream",
     "text": [
      "          Reference\n",
      "Prediction positive negative\n",
      "  positive      174      166\n",
      "  negative       13      315\n"
     ]
    },
    {
     "name": "stderr",
     "output_type": "stream",
     "text": [
      "Setting levels: control = 0, case = 1\n",
      "\n",
      "Setting direction: controls < cases\n",
      "\n"
     ]
    },
    {
     "name": "stdout",
     "output_type": "stream",
     "text": [
      "          Reference\n",
      "Prediction positive negative\n",
      "  positive      174      166\n",
      "  negative       13      315\n"
     ]
    },
    {
     "name": "stderr",
     "output_type": "stream",
     "text": [
      "Setting levels: control = 0, case = 1\n",
      "\n",
      "Setting direction: controls < cases\n",
      "\n"
     ]
    },
    {
     "name": "stdout",
     "output_type": "stream",
     "text": [
      "          Reference\n",
      "Prediction positive negative\n",
      "  positive      174      166\n",
      "  negative       13      315\n"
     ]
    },
    {
     "name": "stderr",
     "output_type": "stream",
     "text": [
      "Setting levels: control = 0, case = 1\n",
      "\n",
      "Setting direction: controls < cases\n",
      "\n"
     ]
    },
    {
     "name": "stdout",
     "output_type": "stream",
     "text": [
      "          Reference\n",
      "Prediction positive negative\n",
      "  positive      174      166\n",
      "  negative       13      315\n"
     ]
    },
    {
     "name": "stderr",
     "output_type": "stream",
     "text": [
      "Setting levels: control = 0, case = 1\n",
      "\n",
      "Setting direction: controls < cases\n",
      "\n"
     ]
    },
    {
     "name": "stdout",
     "output_type": "stream",
     "text": [
      "          Reference\n",
      "Prediction positive negative\n",
      "  positive      174      166\n",
      "  negative       13      315\n"
     ]
    },
    {
     "name": "stderr",
     "output_type": "stream",
     "text": [
      "Setting levels: control = 0, case = 1\n",
      "\n",
      "Setting direction: controls < cases\n",
      "\n"
     ]
    },
    {
     "name": "stdout",
     "output_type": "stream",
     "text": [
      "          Reference\n",
      "Prediction positive negative\n",
      "  positive      174      166\n",
      "  negative       13      315\n"
     ]
    },
    {
     "name": "stderr",
     "output_type": "stream",
     "text": [
      "Setting levels: control = 0, case = 1\n",
      "\n",
      "Setting direction: controls < cases\n",
      "\n"
     ]
    },
    {
     "name": "stdout",
     "output_type": "stream",
     "text": [
      "          Reference\n",
      "Prediction positive negative\n",
      "  positive      174      166\n",
      "  negative       13      315\n"
     ]
    },
    {
     "name": "stderr",
     "output_type": "stream",
     "text": [
      "Setting levels: control = 0, case = 1\n",
      "\n",
      "Setting direction: controls < cases\n",
      "\n"
     ]
    },
    {
     "name": "stdout",
     "output_type": "stream",
     "text": [
      "          Reference\n",
      "Prediction positive negative\n",
      "  positive      174      166\n",
      "  negative       13      315\n"
     ]
    },
    {
     "name": "stderr",
     "output_type": "stream",
     "text": [
      "Setting levels: control = 0, case = 1\n",
      "\n",
      "Setting direction: controls < cases\n",
      "\n"
     ]
    },
    {
     "name": "stdout",
     "output_type": "stream",
     "text": [
      "          Reference\n",
      "Prediction positive negative\n",
      "  positive      174      166\n",
      "  negative       13      315\n"
     ]
    },
    {
     "name": "stderr",
     "output_type": "stream",
     "text": [
      "Setting levels: control = 0, case = 1\n",
      "\n",
      "Setting direction: controls < cases\n",
      "\n"
     ]
    },
    {
     "name": "stdout",
     "output_type": "stream",
     "text": [
      "          Reference\n",
      "Prediction positive negative\n",
      "  positive      174      166\n",
      "  negative       13      315\n"
     ]
    },
    {
     "name": "stderr",
     "output_type": "stream",
     "text": [
      "Setting levels: control = 0, case = 1\n",
      "\n",
      "Setting direction: controls < cases\n",
      "\n"
     ]
    },
    {
     "name": "stdout",
     "output_type": "stream",
     "text": [
      "          Reference\n",
      "Prediction positive negative\n",
      "  positive      174      166\n",
      "  negative       13      315\n"
     ]
    },
    {
     "name": "stderr",
     "output_type": "stream",
     "text": [
      "Setting levels: control = 0, case = 1\n",
      "\n",
      "Setting direction: controls < cases\n",
      "\n"
     ]
    },
    {
     "name": "stdout",
     "output_type": "stream",
     "text": [
      "          Reference\n",
      "Prediction positive negative\n",
      "  positive      174      166\n",
      "  negative       13      315\n"
     ]
    },
    {
     "name": "stderr",
     "output_type": "stream",
     "text": [
      "Setting levels: control = 0, case = 1\n",
      "\n",
      "Setting direction: controls < cases\n",
      "\n"
     ]
    },
    {
     "name": "stdout",
     "output_type": "stream",
     "text": [
      "          Reference\n",
      "Prediction positive negative\n",
      "  positive      174      166\n",
      "  negative       13      315\n"
     ]
    },
    {
     "name": "stderr",
     "output_type": "stream",
     "text": [
      "Setting levels: control = 0, case = 1\n",
      "\n",
      "Setting direction: controls < cases\n",
      "\n"
     ]
    },
    {
     "name": "stdout",
     "output_type": "stream",
     "text": [
      "          Reference\n",
      "Prediction positive negative\n",
      "  positive      174      166\n",
      "  negative       13      315\n"
     ]
    },
    {
     "name": "stderr",
     "output_type": "stream",
     "text": [
      "Setting levels: control = 0, case = 1\n",
      "\n",
      "Setting direction: controls < cases\n",
      "\n"
     ]
    },
    {
     "name": "stdout",
     "output_type": "stream",
     "text": [
      "          Reference\n",
      "Prediction positive negative\n",
      "  positive      174      166\n",
      "  negative       13      315\n"
     ]
    },
    {
     "name": "stderr",
     "output_type": "stream",
     "text": [
      "Setting levels: control = 0, case = 1\n",
      "\n",
      "Setting direction: controls < cases\n",
      "\n"
     ]
    },
    {
     "name": "stdout",
     "output_type": "stream",
     "text": [
      "          Reference\n",
      "Prediction positive negative\n",
      "  positive      174      166\n",
      "  negative       13      315\n"
     ]
    },
    {
     "name": "stderr",
     "output_type": "stream",
     "text": [
      "Setting levels: control = 0, case = 1\n",
      "\n",
      "Setting direction: controls < cases\n",
      "\n"
     ]
    },
    {
     "name": "stdout",
     "output_type": "stream",
     "text": [
      "          Reference\n",
      "Prediction positive negative\n",
      "  positive      174      166\n",
      "  negative       13      315\n"
     ]
    },
    {
     "name": "stderr",
     "output_type": "stream",
     "text": [
      "Setting levels: control = 0, case = 1\n",
      "\n",
      "Setting direction: controls < cases\n",
      "\n"
     ]
    },
    {
     "name": "stdout",
     "output_type": "stream",
     "text": [
      "          Reference\n",
      "Prediction positive negative\n",
      "  positive      174      166\n",
      "  negative       13      315\n"
     ]
    },
    {
     "name": "stderr",
     "output_type": "stream",
     "text": [
      "Setting levels: control = 0, case = 1\n",
      "\n",
      "Setting direction: controls < cases\n",
      "\n"
     ]
    },
    {
     "name": "stdout",
     "output_type": "stream",
     "text": [
      "          Reference\n",
      "Prediction positive negative\n",
      "  positive      174      166\n",
      "  negative       13      315\n"
     ]
    },
    {
     "name": "stderr",
     "output_type": "stream",
     "text": [
      "Setting levels: control = 0, case = 1\n",
      "\n",
      "Setting direction: controls < cases\n",
      "\n"
     ]
    },
    {
     "name": "stdout",
     "output_type": "stream",
     "text": [
      "          Reference\n",
      "Prediction positive negative\n",
      "  positive      174      166\n",
      "  negative       13      315\n"
     ]
    },
    {
     "name": "stderr",
     "output_type": "stream",
     "text": [
      "Setting levels: control = 0, case = 1\n",
      "\n",
      "Setting direction: controls < cases\n",
      "\n"
     ]
    },
    {
     "name": "stdout",
     "output_type": "stream",
     "text": [
      "          Reference\n",
      "Prediction positive negative\n",
      "  positive      174      166\n",
      "  negative       13      315\n"
     ]
    },
    {
     "name": "stderr",
     "output_type": "stream",
     "text": [
      "Setting levels: control = 0, case = 1\n",
      "\n",
      "Setting direction: controls < cases\n",
      "\n"
     ]
    },
    {
     "name": "stdout",
     "output_type": "stream",
     "text": [
      "          Reference\n",
      "Prediction positive negative\n",
      "  positive      174      166\n",
      "  negative       13      315\n"
     ]
    },
    {
     "name": "stderr",
     "output_type": "stream",
     "text": [
      "Setting levels: control = 0, case = 1\n",
      "\n",
      "Setting direction: controls < cases\n",
      "\n"
     ]
    },
    {
     "name": "stdout",
     "output_type": "stream",
     "text": [
      "          Reference\n",
      "Prediction positive negative\n",
      "  positive      174      166\n",
      "  negative       13      315\n"
     ]
    },
    {
     "name": "stderr",
     "output_type": "stream",
     "text": [
      "Setting levels: control = 0, case = 1\n",
      "\n",
      "Setting direction: controls < cases\n",
      "\n"
     ]
    },
    {
     "name": "stdout",
     "output_type": "stream",
     "text": [
      "          Reference\n",
      "Prediction positive negative\n",
      "  positive      174      166\n",
      "  negative       13      315\n"
     ]
    },
    {
     "name": "stderr",
     "output_type": "stream",
     "text": [
      "Setting levels: control = 0, case = 1\n",
      "\n",
      "Setting direction: controls < cases\n",
      "\n"
     ]
    },
    {
     "name": "stdout",
     "output_type": "stream",
     "text": [
      "          Reference\n",
      "Prediction positive negative\n",
      "  positive      174      166\n",
      "  negative       13      315\n"
     ]
    },
    {
     "name": "stderr",
     "output_type": "stream",
     "text": [
      "Setting levels: control = 0, case = 1\n",
      "\n",
      "Setting direction: controls < cases\n",
      "\n"
     ]
    },
    {
     "name": "stdout",
     "output_type": "stream",
     "text": [
      "          Reference\n",
      "Prediction positive negative\n",
      "  positive      174      166\n",
      "  negative       13      315\n"
     ]
    },
    {
     "name": "stderr",
     "output_type": "stream",
     "text": [
      "Setting levels: control = 0, case = 1\n",
      "\n",
      "Setting direction: controls < cases\n",
      "\n"
     ]
    },
    {
     "name": "stdout",
     "output_type": "stream",
     "text": [
      "          Reference\n",
      "Prediction positive negative\n",
      "  positive      174      166\n",
      "  negative       13      315\n"
     ]
    },
    {
     "name": "stderr",
     "output_type": "stream",
     "text": [
      "Setting levels: control = 0, case = 1\n",
      "\n",
      "Setting direction: controls < cases\n",
      "\n"
     ]
    },
    {
     "name": "stdout",
     "output_type": "stream",
     "text": [
      "          Reference\n",
      "Prediction positive negative\n",
      "  positive      174      166\n",
      "  negative       13      315\n"
     ]
    },
    {
     "name": "stderr",
     "output_type": "stream",
     "text": [
      "Setting levels: control = 0, case = 1\n",
      "\n",
      "Setting direction: controls < cases\n",
      "\n"
     ]
    },
    {
     "name": "stdout",
     "output_type": "stream",
     "text": [
      "          Reference\n",
      "Prediction positive negative\n",
      "  positive      174      166\n",
      "  negative       13      315\n"
     ]
    },
    {
     "name": "stderr",
     "output_type": "stream",
     "text": [
      "Setting levels: control = 0, case = 1\n",
      "\n",
      "Setting direction: controls < cases\n",
      "\n"
     ]
    },
    {
     "name": "stdout",
     "output_type": "stream",
     "text": [
      "          Reference\n",
      "Prediction positive negative\n",
      "  positive      174      166\n",
      "  negative       13      315\n"
     ]
    },
    {
     "name": "stderr",
     "output_type": "stream",
     "text": [
      "Setting levels: control = 0, case = 1\n",
      "\n",
      "Setting direction: controls < cases\n",
      "\n"
     ]
    },
    {
     "name": "stdout",
     "output_type": "stream",
     "text": [
      "          Reference\n",
      "Prediction positive negative\n",
      "  positive      174      166\n",
      "  negative       13      315\n"
     ]
    },
    {
     "name": "stderr",
     "output_type": "stream",
     "text": [
      "Setting levels: control = 0, case = 1\n",
      "\n",
      "Setting direction: controls < cases\n",
      "\n"
     ]
    },
    {
     "name": "stdout",
     "output_type": "stream",
     "text": [
      "          Reference\n",
      "Prediction positive negative\n",
      "  positive      174      166\n",
      "  negative       13      315\n"
     ]
    },
    {
     "name": "stderr",
     "output_type": "stream",
     "text": [
      "Setting levels: control = 0, case = 1\n",
      "\n",
      "Setting direction: controls < cases\n",
      "\n"
     ]
    },
    {
     "name": "stdout",
     "output_type": "stream",
     "text": [
      "          Reference\n",
      "Prediction positive negative\n",
      "  positive      174      166\n",
      "  negative       13      315\n"
     ]
    },
    {
     "name": "stderr",
     "output_type": "stream",
     "text": [
      "Setting levels: control = 0, case = 1\n",
      "\n",
      "Setting direction: controls < cases\n",
      "\n"
     ]
    },
    {
     "name": "stdout",
     "output_type": "stream",
     "text": [
      "          Reference\n",
      "Prediction positive negative\n",
      "  positive      174      166\n",
      "  negative       13      315\n"
     ]
    },
    {
     "name": "stderr",
     "output_type": "stream",
     "text": [
      "Setting levels: control = 0, case = 1\n",
      "\n",
      "Setting direction: controls < cases\n",
      "\n"
     ]
    },
    {
     "name": "stdout",
     "output_type": "stream",
     "text": [
      "          Reference\n",
      "Prediction positive negative\n",
      "  positive      174      166\n",
      "  negative       13      315\n"
     ]
    },
    {
     "name": "stderr",
     "output_type": "stream",
     "text": [
      "Setting levels: control = 0, case = 1\n",
      "\n",
      "Setting direction: controls < cases\n",
      "\n"
     ]
    },
    {
     "name": "stdout",
     "output_type": "stream",
     "text": [
      "          Reference\n",
      "Prediction positive negative\n",
      "  positive      174      166\n",
      "  negative       13      315\n"
     ]
    },
    {
     "name": "stderr",
     "output_type": "stream",
     "text": [
      "Setting levels: control = 0, case = 1\n",
      "\n",
      "Setting direction: controls < cases\n",
      "\n"
     ]
    },
    {
     "name": "stdout",
     "output_type": "stream",
     "text": [
      "          Reference\n",
      "Prediction positive negative\n",
      "  positive      174      166\n",
      "  negative       13      315\n"
     ]
    },
    {
     "name": "stderr",
     "output_type": "stream",
     "text": [
      "Setting levels: control = 0, case = 1\n",
      "\n",
      "Setting direction: controls < cases\n",
      "\n"
     ]
    },
    {
     "name": "stdout",
     "output_type": "stream",
     "text": [
      "          Reference\n",
      "Prediction positive negative\n",
      "  positive      174      166\n",
      "  negative       13      315\n"
     ]
    },
    {
     "name": "stderr",
     "output_type": "stream",
     "text": [
      "Setting levels: control = 0, case = 1\n",
      "\n",
      "Setting direction: controls < cases\n",
      "\n"
     ]
    },
    {
     "name": "stdout",
     "output_type": "stream",
     "text": [
      "          Reference\n",
      "Prediction positive negative\n",
      "  positive      174      166\n",
      "  negative       13      315\n"
     ]
    },
    {
     "name": "stderr",
     "output_type": "stream",
     "text": [
      "Setting levels: control = 0, case = 1\n",
      "\n",
      "Setting direction: controls < cases\n",
      "\n"
     ]
    },
    {
     "name": "stdout",
     "output_type": "stream",
     "text": [
      "          Reference\n",
      "Prediction positive negative\n",
      "  positive      174      166\n",
      "  negative       13      315\n"
     ]
    },
    {
     "name": "stderr",
     "output_type": "stream",
     "text": [
      "Setting levels: control = 0, case = 1\n",
      "\n",
      "Setting direction: controls < cases\n",
      "\n"
     ]
    },
    {
     "name": "stdout",
     "output_type": "stream",
     "text": [
      "          Reference\n",
      "Prediction positive negative\n",
      "  positive      174      166\n",
      "  negative       13      315\n"
     ]
    },
    {
     "name": "stderr",
     "output_type": "stream",
     "text": [
      "Setting levels: control = 0, case = 1\n",
      "\n",
      "Setting direction: controls < cases\n",
      "\n"
     ]
    },
    {
     "name": "stdout",
     "output_type": "stream",
     "text": [
      "          Reference\n",
      "Prediction positive negative\n",
      "  positive      174      166\n",
      "  negative       13      315\n"
     ]
    },
    {
     "name": "stderr",
     "output_type": "stream",
     "text": [
      "Setting levels: control = 0, case = 1\n",
      "\n",
      "Setting direction: controls < cases\n",
      "\n"
     ]
    },
    {
     "name": "stdout",
     "output_type": "stream",
     "text": [
      "          Reference\n",
      "Prediction positive negative\n",
      "  positive      174      166\n",
      "  negative       13      315\n"
     ]
    },
    {
     "name": "stderr",
     "output_type": "stream",
     "text": [
      "Setting levels: control = 0, case = 1\n",
      "\n",
      "Setting direction: controls < cases\n",
      "\n"
     ]
    },
    {
     "name": "stdout",
     "output_type": "stream",
     "text": [
      "          Reference\n",
      "Prediction positive negative\n",
      "  positive      174      166\n",
      "  negative       13      315\n"
     ]
    },
    {
     "name": "stderr",
     "output_type": "stream",
     "text": [
      "Setting levels: control = 0, case = 1\n",
      "\n",
      "Setting direction: controls < cases\n",
      "\n"
     ]
    },
    {
     "name": "stdout",
     "output_type": "stream",
     "text": [
      "          Reference\n",
      "Prediction positive negative\n",
      "  positive      174      166\n",
      "  negative       13      315\n"
     ]
    },
    {
     "name": "stderr",
     "output_type": "stream",
     "text": [
      "Setting levels: control = 0, case = 1\n",
      "\n",
      "Setting direction: controls < cases\n",
      "\n"
     ]
    },
    {
     "name": "stdout",
     "output_type": "stream",
     "text": [
      "          Reference\n",
      "Prediction positive negative\n",
      "  positive      177      246\n",
      "  negative       10      235\n"
     ]
    },
    {
     "name": "stderr",
     "output_type": "stream",
     "text": [
      "Setting levels: control = 0, case = 1\n",
      "\n",
      "Setting direction: controls < cases\n",
      "\n"
     ]
    },
    {
     "name": "stdout",
     "output_type": "stream",
     "text": [
      "          Reference\n",
      "Prediction positive negative\n",
      "  positive      177      246\n",
      "  negative       10      235\n"
     ]
    },
    {
     "name": "stderr",
     "output_type": "stream",
     "text": [
      "Setting levels: control = 0, case = 1\n",
      "\n",
      "Setting direction: controls < cases\n",
      "\n"
     ]
    },
    {
     "name": "stdout",
     "output_type": "stream",
     "text": [
      "          Reference\n",
      "Prediction positive negative\n",
      "  positive      177      246\n",
      "  negative       10      235\n"
     ]
    },
    {
     "name": "stderr",
     "output_type": "stream",
     "text": [
      "Setting levels: control = 0, case = 1\n",
      "\n",
      "Setting direction: controls < cases\n",
      "\n"
     ]
    },
    {
     "name": "stdout",
     "output_type": "stream",
     "text": [
      "          Reference\n",
      "Prediction positive negative\n",
      "  positive      177      246\n",
      "  negative       10      235\n"
     ]
    },
    {
     "name": "stderr",
     "output_type": "stream",
     "text": [
      "Setting levels: control = 0, case = 1\n",
      "\n",
      "Setting direction: controls < cases\n",
      "\n"
     ]
    },
    {
     "name": "stdout",
     "output_type": "stream",
     "text": [
      "          Reference\n",
      "Prediction positive negative\n",
      "  positive      177      246\n",
      "  negative       10      235\n"
     ]
    },
    {
     "name": "stderr",
     "output_type": "stream",
     "text": [
      "Setting levels: control = 0, case = 1\n",
      "\n",
      "Setting direction: controls < cases\n",
      "\n"
     ]
    },
    {
     "name": "stdout",
     "output_type": "stream",
     "text": [
      "          Reference\n",
      "Prediction positive negative\n",
      "  positive      177      246\n",
      "  negative       10      235\n"
     ]
    },
    {
     "name": "stderr",
     "output_type": "stream",
     "text": [
      "Setting levels: control = 0, case = 1\n",
      "\n",
      "Setting direction: controls < cases\n",
      "\n"
     ]
    },
    {
     "name": "stdout",
     "output_type": "stream",
     "text": [
      "          Reference\n",
      "Prediction positive negative\n",
      "  positive      177      246\n",
      "  negative       10      235\n"
     ]
    },
    {
     "name": "stderr",
     "output_type": "stream",
     "text": [
      "Setting levels: control = 0, case = 1\n",
      "\n",
      "Setting direction: controls < cases\n",
      "\n"
     ]
    },
    {
     "name": "stdout",
     "output_type": "stream",
     "text": [
      "          Reference\n",
      "Prediction positive negative\n",
      "  positive      177      246\n",
      "  negative       10      235\n"
     ]
    },
    {
     "name": "stderr",
     "output_type": "stream",
     "text": [
      "Setting levels: control = 0, case = 1\n",
      "\n",
      "Setting direction: controls < cases\n",
      "\n"
     ]
    },
    {
     "name": "stdout",
     "output_type": "stream",
     "text": [
      "          Reference\n",
      "Prediction positive negative\n",
      "  positive      177      246\n",
      "  negative       10      235\n"
     ]
    },
    {
     "name": "stderr",
     "output_type": "stream",
     "text": [
      "Setting levels: control = 0, case = 1\n",
      "\n",
      "Setting direction: controls < cases\n",
      "\n"
     ]
    },
    {
     "name": "stdout",
     "output_type": "stream",
     "text": [
      "          Reference\n",
      "Prediction positive negative\n",
      "  positive      177      246\n",
      "  negative       10      235\n"
     ]
    },
    {
     "name": "stderr",
     "output_type": "stream",
     "text": [
      "Setting levels: control = 0, case = 1\n",
      "\n",
      "Setting direction: controls < cases\n",
      "\n"
     ]
    },
    {
     "name": "stdout",
     "output_type": "stream",
     "text": [
      "          Reference\n",
      "Prediction positive negative\n",
      "  positive      177      246\n",
      "  negative       10      235\n"
     ]
    },
    {
     "name": "stderr",
     "output_type": "stream",
     "text": [
      "Setting levels: control = 0, case = 1\n",
      "\n",
      "Setting direction: controls < cases\n",
      "\n"
     ]
    },
    {
     "name": "stdout",
     "output_type": "stream",
     "text": [
      "          Reference\n",
      "Prediction positive negative\n",
      "  positive      177      246\n",
      "  negative       10      235\n"
     ]
    },
    {
     "name": "stderr",
     "output_type": "stream",
     "text": [
      "Setting levels: control = 0, case = 1\n",
      "\n",
      "Setting direction: controls < cases\n",
      "\n"
     ]
    },
    {
     "name": "stdout",
     "output_type": "stream",
     "text": [
      "          Reference\n",
      "Prediction positive negative\n",
      "  positive      177      246\n",
      "  negative       10      235\n"
     ]
    },
    {
     "name": "stderr",
     "output_type": "stream",
     "text": [
      "Setting levels: control = 0, case = 1\n",
      "\n",
      "Setting direction: controls < cases\n",
      "\n"
     ]
    },
    {
     "name": "stdout",
     "output_type": "stream",
     "text": [
      "          Reference\n",
      "Prediction positive negative\n",
      "  positive      177      246\n",
      "  negative       10      235\n"
     ]
    },
    {
     "name": "stderr",
     "output_type": "stream",
     "text": [
      "Setting levels: control = 0, case = 1\n",
      "\n",
      "Setting direction: controls < cases\n",
      "\n"
     ]
    },
    {
     "name": "stdout",
     "output_type": "stream",
     "text": [
      "          Reference\n",
      "Prediction positive negative\n",
      "  positive      177      246\n",
      "  negative       10      235\n"
     ]
    },
    {
     "name": "stderr",
     "output_type": "stream",
     "text": [
      "Setting levels: control = 0, case = 1\n",
      "\n",
      "Setting direction: controls < cases\n",
      "\n"
     ]
    },
    {
     "name": "stdout",
     "output_type": "stream",
     "text": [
      "          Reference\n",
      "Prediction positive negative\n",
      "  positive      177      246\n",
      "  negative       10      235\n"
     ]
    },
    {
     "name": "stderr",
     "output_type": "stream",
     "text": [
      "Setting levels: control = 0, case = 1\n",
      "\n",
      "Setting direction: controls < cases\n",
      "\n"
     ]
    },
    {
     "name": "stdout",
     "output_type": "stream",
     "text": [
      "          Reference\n",
      "Prediction positive negative\n",
      "  positive      177      246\n",
      "  negative       10      235\n"
     ]
    },
    {
     "name": "stderr",
     "output_type": "stream",
     "text": [
      "Setting levels: control = 0, case = 1\n",
      "\n",
      "Setting direction: controls < cases\n",
      "\n"
     ]
    },
    {
     "name": "stdout",
     "output_type": "stream",
     "text": [
      "          Reference\n",
      "Prediction positive negative\n",
      "  positive      177      246\n",
      "  negative       10      235\n"
     ]
    },
    {
     "name": "stderr",
     "output_type": "stream",
     "text": [
      "Setting levels: control = 0, case = 1\n",
      "\n",
      "Setting direction: controls < cases\n",
      "\n"
     ]
    },
    {
     "name": "stdout",
     "output_type": "stream",
     "text": [
      "          Reference\n",
      "Prediction positive negative\n",
      "  positive      177      246\n",
      "  negative       10      235\n"
     ]
    },
    {
     "name": "stderr",
     "output_type": "stream",
     "text": [
      "Setting levels: control = 0, case = 1\n",
      "\n",
      "Setting direction: controls < cases\n",
      "\n"
     ]
    },
    {
     "name": "stdout",
     "output_type": "stream",
     "text": [
      "          Reference\n",
      "Prediction positive negative\n",
      "  positive      177      246\n",
      "  negative       10      235\n"
     ]
    },
    {
     "name": "stderr",
     "output_type": "stream",
     "text": [
      "Setting levels: control = 0, case = 1\n",
      "\n",
      "Setting direction: controls < cases\n",
      "\n"
     ]
    },
    {
     "name": "stdout",
     "output_type": "stream",
     "text": [
      "          Reference\n",
      "Prediction positive negative\n",
      "  positive      177      246\n",
      "  negative       10      235\n"
     ]
    },
    {
     "name": "stderr",
     "output_type": "stream",
     "text": [
      "Setting levels: control = 0, case = 1\n",
      "\n",
      "Setting direction: controls < cases\n",
      "\n"
     ]
    },
    {
     "name": "stdout",
     "output_type": "stream",
     "text": [
      "          Reference\n",
      "Prediction positive negative\n",
      "  positive      177      246\n",
      "  negative       10      235\n"
     ]
    },
    {
     "name": "stderr",
     "output_type": "stream",
     "text": [
      "Setting levels: control = 0, case = 1\n",
      "\n",
      "Setting direction: controls < cases\n",
      "\n"
     ]
    },
    {
     "name": "stdout",
     "output_type": "stream",
     "text": [
      "          Reference\n",
      "Prediction positive negative\n",
      "  positive      177      246\n",
      "  negative       10      235\n"
     ]
    },
    {
     "name": "stderr",
     "output_type": "stream",
     "text": [
      "Setting levels: control = 0, case = 1\n",
      "\n",
      "Setting direction: controls < cases\n",
      "\n"
     ]
    },
    {
     "name": "stdout",
     "output_type": "stream",
     "text": [
      "          Reference\n",
      "Prediction positive negative\n",
      "  positive      177      246\n",
      "  negative       10      235\n"
     ]
    },
    {
     "name": "stderr",
     "output_type": "stream",
     "text": [
      "Setting levels: control = 0, case = 1\n",
      "\n",
      "Setting direction: controls < cases\n",
      "\n"
     ]
    },
    {
     "name": "stdout",
     "output_type": "stream",
     "text": [
      "          Reference\n",
      "Prediction positive negative\n",
      "  positive      177      246\n",
      "  negative       10      235\n"
     ]
    },
    {
     "name": "stderr",
     "output_type": "stream",
     "text": [
      "Setting levels: control = 0, case = 1\n",
      "\n",
      "Setting direction: controls < cases\n",
      "\n"
     ]
    },
    {
     "name": "stdout",
     "output_type": "stream",
     "text": [
      "          Reference\n",
      "Prediction positive negative\n",
      "  positive      177      246\n",
      "  negative       10      235\n"
     ]
    },
    {
     "name": "stderr",
     "output_type": "stream",
     "text": [
      "Setting levels: control = 0, case = 1\n",
      "\n",
      "Setting direction: controls < cases\n",
      "\n"
     ]
    },
    {
     "name": "stdout",
     "output_type": "stream",
     "text": [
      "          Reference\n",
      "Prediction positive negative\n",
      "  positive      177      246\n",
      "  negative       10      235\n"
     ]
    },
    {
     "name": "stderr",
     "output_type": "stream",
     "text": [
      "Setting levels: control = 0, case = 1\n",
      "\n",
      "Setting direction: controls < cases\n",
      "\n"
     ]
    },
    {
     "name": "stdout",
     "output_type": "stream",
     "text": [
      "          Reference\n",
      "Prediction positive negative\n",
      "  positive      177      246\n",
      "  negative       10      235\n"
     ]
    },
    {
     "name": "stderr",
     "output_type": "stream",
     "text": [
      "Setting levels: control = 0, case = 1\n",
      "\n",
      "Setting direction: controls < cases\n",
      "\n"
     ]
    },
    {
     "name": "stdout",
     "output_type": "stream",
     "text": [
      "          Reference\n",
      "Prediction positive negative\n",
      "  positive      177      246\n",
      "  negative       10      235\n"
     ]
    },
    {
     "name": "stderr",
     "output_type": "stream",
     "text": [
      "Setting levels: control = 0, case = 1\n",
      "\n",
      "Setting direction: controls < cases\n",
      "\n"
     ]
    },
    {
     "name": "stdout",
     "output_type": "stream",
     "text": [
      "          Reference\n",
      "Prediction positive negative\n",
      "  positive      177      246\n",
      "  negative       10      235\n"
     ]
    },
    {
     "name": "stderr",
     "output_type": "stream",
     "text": [
      "Setting levels: control = 0, case = 1\n",
      "\n",
      "Setting direction: controls < cases\n",
      "\n"
     ]
    },
    {
     "name": "stdout",
     "output_type": "stream",
     "text": [
      "          Reference\n",
      "Prediction positive negative\n",
      "  positive      177      246\n",
      "  negative       10      235\n"
     ]
    },
    {
     "name": "stderr",
     "output_type": "stream",
     "text": [
      "Setting levels: control = 0, case = 1\n",
      "\n",
      "Setting direction: controls < cases\n",
      "\n"
     ]
    },
    {
     "name": "stdout",
     "output_type": "stream",
     "text": [
      "          Reference\n",
      "Prediction positive negative\n",
      "  positive      177      246\n",
      "  negative       10      235\n"
     ]
    },
    {
     "name": "stderr",
     "output_type": "stream",
     "text": [
      "Setting levels: control = 0, case = 1\n",
      "\n",
      "Setting direction: controls < cases\n",
      "\n"
     ]
    },
    {
     "name": "stdout",
     "output_type": "stream",
     "text": [
      "          Reference\n",
      "Prediction positive negative\n",
      "  positive      177      246\n",
      "  negative       10      235\n"
     ]
    },
    {
     "name": "stderr",
     "output_type": "stream",
     "text": [
      "Setting levels: control = 0, case = 1\n",
      "\n",
      "Setting direction: controls < cases\n",
      "\n"
     ]
    },
    {
     "name": "stdout",
     "output_type": "stream",
     "text": [
      "          Reference\n",
      "Prediction positive negative\n",
      "  positive      177      246\n",
      "  negative       10      235\n"
     ]
    },
    {
     "name": "stderr",
     "output_type": "stream",
     "text": [
      "Setting levels: control = 0, case = 1\n",
      "\n",
      "Setting direction: controls < cases\n",
      "\n"
     ]
    },
    {
     "name": "stdout",
     "output_type": "stream",
     "text": [
      "          Reference\n",
      "Prediction positive negative\n",
      "  positive      177      246\n",
      "  negative       10      235\n"
     ]
    },
    {
     "name": "stderr",
     "output_type": "stream",
     "text": [
      "Setting levels: control = 0, case = 1\n",
      "\n",
      "Setting direction: controls < cases\n",
      "\n"
     ]
    },
    {
     "name": "stdout",
     "output_type": "stream",
     "text": [
      "          Reference\n",
      "Prediction positive negative\n",
      "  positive      177      246\n",
      "  negative       10      235\n"
     ]
    },
    {
     "name": "stderr",
     "output_type": "stream",
     "text": [
      "Setting levels: control = 0, case = 1\n",
      "\n",
      "Setting direction: controls < cases\n",
      "\n"
     ]
    },
    {
     "name": "stdout",
     "output_type": "stream",
     "text": [
      "          Reference\n",
      "Prediction positive negative\n",
      "  positive      177      246\n",
      "  negative       10      235\n"
     ]
    },
    {
     "name": "stderr",
     "output_type": "stream",
     "text": [
      "Setting levels: control = 0, case = 1\n",
      "\n",
      "Setting direction: controls < cases\n",
      "\n"
     ]
    },
    {
     "name": "stdout",
     "output_type": "stream",
     "text": [
      "          Reference\n",
      "Prediction positive negative\n",
      "  positive      177      246\n",
      "  negative       10      235\n"
     ]
    },
    {
     "name": "stderr",
     "output_type": "stream",
     "text": [
      "Setting levels: control = 0, case = 1\n",
      "\n",
      "Setting direction: controls < cases\n",
      "\n"
     ]
    },
    {
     "name": "stdout",
     "output_type": "stream",
     "text": [
      "          Reference\n",
      "Prediction positive negative\n",
      "  positive      177      246\n",
      "  negative       10      235\n"
     ]
    },
    {
     "name": "stderr",
     "output_type": "stream",
     "text": [
      "Setting levels: control = 0, case = 1\n",
      "\n",
      "Setting direction: controls < cases\n",
      "\n"
     ]
    },
    {
     "name": "stdout",
     "output_type": "stream",
     "text": [
      "          Reference\n",
      "Prediction positive negative\n",
      "  positive      177      246\n",
      "  negative       10      235\n"
     ]
    },
    {
     "name": "stderr",
     "output_type": "stream",
     "text": [
      "Setting levels: control = 0, case = 1\n",
      "\n",
      "Setting direction: controls < cases\n",
      "\n"
     ]
    },
    {
     "name": "stdout",
     "output_type": "stream",
     "text": [
      "          Reference\n",
      "Prediction positive negative\n",
      "  positive      177      246\n",
      "  negative       10      235\n"
     ]
    },
    {
     "name": "stderr",
     "output_type": "stream",
     "text": [
      "Setting levels: control = 0, case = 1\n",
      "\n",
      "Setting direction: controls < cases\n",
      "\n"
     ]
    },
    {
     "name": "stdout",
     "output_type": "stream",
     "text": [
      "          Reference\n",
      "Prediction positive negative\n",
      "  positive      177      246\n",
      "  negative       10      235\n"
     ]
    },
    {
     "name": "stderr",
     "output_type": "stream",
     "text": [
      "Setting levels: control = 0, case = 1\n",
      "\n",
      "Setting direction: controls < cases\n",
      "\n"
     ]
    },
    {
     "name": "stdout",
     "output_type": "stream",
     "text": [
      "          Reference\n",
      "Prediction positive negative\n",
      "  positive      177      246\n",
      "  negative       10      235\n"
     ]
    },
    {
     "name": "stderr",
     "output_type": "stream",
     "text": [
      "Setting levels: control = 0, case = 1\n",
      "\n",
      "Setting direction: controls < cases\n",
      "\n"
     ]
    },
    {
     "name": "stdout",
     "output_type": "stream",
     "text": [
      "          Reference\n",
      "Prediction positive negative\n",
      "  positive      177      246\n",
      "  negative       10      235\n"
     ]
    },
    {
     "name": "stderr",
     "output_type": "stream",
     "text": [
      "Setting levels: control = 0, case = 1\n",
      "\n",
      "Setting direction: controls < cases\n",
      "\n"
     ]
    },
    {
     "name": "stdout",
     "output_type": "stream",
     "text": [
      "          Reference\n",
      "Prediction positive negative\n",
      "  positive      177      246\n",
      "  negative       10      235\n"
     ]
    },
    {
     "name": "stderr",
     "output_type": "stream",
     "text": [
      "Setting levels: control = 0, case = 1\n",
      "\n",
      "Setting direction: controls < cases\n",
      "\n"
     ]
    },
    {
     "name": "stdout",
     "output_type": "stream",
     "text": [
      "          Reference\n",
      "Prediction positive negative\n",
      "  positive      177      246\n",
      "  negative       10      235\n"
     ]
    },
    {
     "name": "stderr",
     "output_type": "stream",
     "text": [
      "Setting levels: control = 0, case = 1\n",
      "\n",
      "Setting direction: controls < cases\n",
      "\n"
     ]
    },
    {
     "name": "stdout",
     "output_type": "stream",
     "text": [
      "          Reference\n",
      "Prediction positive negative\n",
      "  positive      177      246\n",
      "  negative       10      235\n"
     ]
    },
    {
     "name": "stderr",
     "output_type": "stream",
     "text": [
      "Setting levels: control = 0, case = 1\n",
      "\n",
      "Setting direction: controls < cases\n",
      "\n"
     ]
    },
    {
     "name": "stdout",
     "output_type": "stream",
     "text": [
      "          Reference\n",
      "Prediction positive negative\n",
      "  positive      177      246\n",
      "  negative       10      235\n"
     ]
    },
    {
     "name": "stderr",
     "output_type": "stream",
     "text": [
      "Setting levels: control = 0, case = 1\n",
      "\n",
      "Setting direction: controls < cases\n",
      "\n"
     ]
    },
    {
     "name": "stdout",
     "output_type": "stream",
     "text": [
      "          Reference\n",
      "Prediction positive negative\n",
      "  positive      177      246\n",
      "  negative       10      235\n"
     ]
    },
    {
     "name": "stderr",
     "output_type": "stream",
     "text": [
      "Setting levels: control = 0, case = 1\n",
      "\n",
      "Setting direction: controls < cases\n",
      "\n"
     ]
    },
    {
     "name": "stdout",
     "output_type": "stream",
     "text": [
      "          Reference\n",
      "Prediction positive negative\n",
      "  positive      177      246\n",
      "  negative       10      235\n"
     ]
    },
    {
     "name": "stderr",
     "output_type": "stream",
     "text": [
      "Setting levels: control = 0, case = 1\n",
      "\n",
      "Setting direction: controls < cases\n",
      "\n"
     ]
    },
    {
     "name": "stdout",
     "output_type": "stream",
     "text": [
      "          Reference\n",
      "Prediction positive negative\n",
      "  positive      177      246\n",
      "  negative       10      235\n"
     ]
    },
    {
     "name": "stderr",
     "output_type": "stream",
     "text": [
      "Setting levels: control = 0, case = 1\n",
      "\n",
      "Setting direction: controls < cases\n",
      "\n"
     ]
    },
    {
     "name": "stdout",
     "output_type": "stream",
     "text": [
      "          Reference\n",
      "Prediction positive negative\n",
      "  positive      177      246\n",
      "  negative       10      235\n"
     ]
    },
    {
     "name": "stderr",
     "output_type": "stream",
     "text": [
      "Setting levels: control = 0, case = 1\n",
      "\n",
      "Setting direction: controls < cases\n",
      "\n"
     ]
    },
    {
     "name": "stdout",
     "output_type": "stream",
     "text": [
      "          Reference\n",
      "Prediction positive negative\n",
      "  positive      177      246\n",
      "  negative       10      235\n"
     ]
    },
    {
     "name": "stderr",
     "output_type": "stream",
     "text": [
      "Setting levels: control = 0, case = 1\n",
      "\n",
      "Setting direction: controls < cases\n",
      "\n"
     ]
    },
    {
     "name": "stdout",
     "output_type": "stream",
     "text": [
      "          Reference\n",
      "Prediction positive negative\n",
      "  positive      177      246\n",
      "  negative       10      235\n"
     ]
    },
    {
     "name": "stderr",
     "output_type": "stream",
     "text": [
      "Setting levels: control = 0, case = 1\n",
      "\n",
      "Setting direction: controls < cases\n",
      "\n"
     ]
    },
    {
     "name": "stdout",
     "output_type": "stream",
     "text": [
      "          Reference\n",
      "Prediction positive negative\n",
      "  positive      177      246\n",
      "  negative       10      235\n"
     ]
    },
    {
     "name": "stderr",
     "output_type": "stream",
     "text": [
      "Setting levels: control = 0, case = 1\n",
      "\n",
      "Setting direction: controls < cases\n",
      "\n"
     ]
    },
    {
     "name": "stdout",
     "output_type": "stream",
     "text": [
      "          Reference\n",
      "Prediction positive negative\n",
      "  positive      177      246\n",
      "  negative       10      235\n"
     ]
    },
    {
     "name": "stderr",
     "output_type": "stream",
     "text": [
      "Setting levels: control = 0, case = 1\n",
      "\n",
      "Setting direction: controls < cases\n",
      "\n"
     ]
    },
    {
     "name": "stdout",
     "output_type": "stream",
     "text": [
      "          Reference\n",
      "Prediction positive negative\n",
      "  positive      177      246\n",
      "  negative       10      235\n"
     ]
    },
    {
     "name": "stderr",
     "output_type": "stream",
     "text": [
      "Setting levels: control = 0, case = 1\n",
      "\n",
      "Setting direction: controls < cases\n",
      "\n"
     ]
    },
    {
     "name": "stdout",
     "output_type": "stream",
     "text": [
      "          Reference\n",
      "Prediction positive negative\n",
      "  positive      177      246\n",
      "  negative       10      235\n"
     ]
    },
    {
     "name": "stderr",
     "output_type": "stream",
     "text": [
      "Setting levels: control = 0, case = 1\n",
      "\n",
      "Setting direction: controls < cases\n",
      "\n"
     ]
    },
    {
     "name": "stdout",
     "output_type": "stream",
     "text": [
      "          Reference\n",
      "Prediction positive negative\n",
      "  positive      177      246\n",
      "  negative       10      235\n"
     ]
    },
    {
     "name": "stderr",
     "output_type": "stream",
     "text": [
      "Setting levels: control = 0, case = 1\n",
      "\n",
      "Setting direction: controls < cases\n",
      "\n"
     ]
    },
    {
     "name": "stdout",
     "output_type": "stream",
     "text": [
      "          Reference\n",
      "Prediction positive negative\n",
      "  positive      177      246\n",
      "  negative       10      235\n"
     ]
    },
    {
     "name": "stderr",
     "output_type": "stream",
     "text": [
      "Setting levels: control = 0, case = 1\n",
      "\n",
      "Setting direction: controls < cases\n",
      "\n"
     ]
    },
    {
     "name": "stdout",
     "output_type": "stream",
     "text": [
      "          Reference\n",
      "Prediction positive negative\n",
      "  positive      177      246\n",
      "  negative       10      235\n"
     ]
    },
    {
     "name": "stderr",
     "output_type": "stream",
     "text": [
      "Setting levels: control = 0, case = 1\n",
      "\n",
      "Setting direction: controls < cases\n",
      "\n"
     ]
    },
    {
     "name": "stdout",
     "output_type": "stream",
     "text": [
      "          Reference\n",
      "Prediction positive negative\n",
      "  positive      177      246\n",
      "  negative       10      235\n"
     ]
    },
    {
     "name": "stderr",
     "output_type": "stream",
     "text": [
      "Setting levels: control = 0, case = 1\n",
      "\n",
      "Setting direction: controls < cases\n",
      "\n"
     ]
    },
    {
     "name": "stdout",
     "output_type": "stream",
     "text": [
      "          Reference\n",
      "Prediction positive negative\n",
      "  positive      177      246\n",
      "  negative       10      235\n"
     ]
    },
    {
     "name": "stderr",
     "output_type": "stream",
     "text": [
      "Setting levels: control = 0, case = 1\n",
      "\n",
      "Setting direction: controls < cases\n",
      "\n"
     ]
    },
    {
     "name": "stdout",
     "output_type": "stream",
     "text": [
      "          Reference\n",
      "Prediction positive negative\n",
      "  positive      177      246\n",
      "  negative       10      235\n"
     ]
    },
    {
     "name": "stderr",
     "output_type": "stream",
     "text": [
      "Setting levels: control = 0, case = 1\n",
      "\n",
      "Setting direction: controls < cases\n",
      "\n"
     ]
    },
    {
     "name": "stdout",
     "output_type": "stream",
     "text": [
      "          Reference\n",
      "Prediction positive negative\n",
      "  positive      177      246\n",
      "  negative       10      235\n"
     ]
    },
    {
     "name": "stderr",
     "output_type": "stream",
     "text": [
      "Setting levels: control = 0, case = 1\n",
      "\n",
      "Setting direction: controls < cases\n",
      "\n"
     ]
    },
    {
     "name": "stdout",
     "output_type": "stream",
     "text": [
      "          Reference\n",
      "Prediction positive negative\n",
      "  positive      177      246\n",
      "  negative       10      235\n"
     ]
    },
    {
     "name": "stderr",
     "output_type": "stream",
     "text": [
      "Setting levels: control = 0, case = 1\n",
      "\n",
      "Setting direction: controls < cases\n",
      "\n"
     ]
    },
    {
     "name": "stdout",
     "output_type": "stream",
     "text": [
      "          Reference\n",
      "Prediction positive negative\n",
      "  positive      177      246\n",
      "  negative       10      235\n"
     ]
    },
    {
     "name": "stderr",
     "output_type": "stream",
     "text": [
      "Setting levels: control = 0, case = 1\n",
      "\n",
      "Setting direction: controls < cases\n",
      "\n"
     ]
    },
    {
     "name": "stdout",
     "output_type": "stream",
     "text": [
      "          Reference\n",
      "Prediction positive negative\n",
      "  positive      177      246\n",
      "  negative       10      235\n"
     ]
    },
    {
     "name": "stderr",
     "output_type": "stream",
     "text": [
      "Setting levels: control = 0, case = 1\n",
      "\n",
      "Setting direction: controls < cases\n",
      "\n"
     ]
    },
    {
     "name": "stdout",
     "output_type": "stream",
     "text": [
      "          Reference\n",
      "Prediction positive negative\n",
      "  positive      179      317\n",
      "  negative        8      164\n"
     ]
    },
    {
     "name": "stderr",
     "output_type": "stream",
     "text": [
      "Setting levels: control = 0, case = 1\n",
      "\n",
      "Setting direction: controls < cases\n",
      "\n"
     ]
    },
    {
     "name": "stdout",
     "output_type": "stream",
     "text": [
      "          Reference\n",
      "Prediction positive negative\n",
      "  positive      179      317\n",
      "  negative        8      164\n"
     ]
    },
    {
     "name": "stderr",
     "output_type": "stream",
     "text": [
      "Setting levels: control = 0, case = 1\n",
      "\n",
      "Setting direction: controls < cases\n",
      "\n"
     ]
    },
    {
     "name": "stdout",
     "output_type": "stream",
     "text": [
      "          Reference\n",
      "Prediction positive negative\n",
      "  positive      179      317\n",
      "  negative        8      164\n"
     ]
    },
    {
     "name": "stderr",
     "output_type": "stream",
     "text": [
      "Setting levels: control = 0, case = 1\n",
      "\n",
      "Setting direction: controls < cases\n",
      "\n"
     ]
    },
    {
     "name": "stdout",
     "output_type": "stream",
     "text": [
      "          Reference\n",
      "Prediction positive negative\n",
      "  positive      179      317\n",
      "  negative        8      164\n"
     ]
    },
    {
     "name": "stderr",
     "output_type": "stream",
     "text": [
      "Setting levels: control = 0, case = 1\n",
      "\n",
      "Setting direction: controls < cases\n",
      "\n"
     ]
    },
    {
     "name": "stdout",
     "output_type": "stream",
     "text": [
      "          Reference\n",
      "Prediction positive negative\n",
      "  positive      179      317\n",
      "  negative        8      164\n"
     ]
    },
    {
     "name": "stderr",
     "output_type": "stream",
     "text": [
      "Setting levels: control = 0, case = 1\n",
      "\n",
      "Setting direction: controls < cases\n",
      "\n"
     ]
    },
    {
     "name": "stdout",
     "output_type": "stream",
     "text": [
      "          Reference\n",
      "Prediction positive negative\n",
      "  positive      179      317\n",
      "  negative        8      164\n"
     ]
    },
    {
     "name": "stderr",
     "output_type": "stream",
     "text": [
      "Setting levels: control = 0, case = 1\n",
      "\n",
      "Setting direction: controls < cases\n",
      "\n"
     ]
    },
    {
     "name": "stdout",
     "output_type": "stream",
     "text": [
      "          Reference\n",
      "Prediction positive negative\n",
      "  positive      179      317\n",
      "  negative        8      164\n"
     ]
    },
    {
     "name": "stderr",
     "output_type": "stream",
     "text": [
      "Setting levels: control = 0, case = 1\n",
      "\n",
      "Setting direction: controls < cases\n",
      "\n"
     ]
    },
    {
     "name": "stdout",
     "output_type": "stream",
     "text": [
      "          Reference\n",
      "Prediction positive negative\n",
      "  positive      179      317\n",
      "  negative        8      164\n"
     ]
    },
    {
     "name": "stderr",
     "output_type": "stream",
     "text": [
      "Setting levels: control = 0, case = 1\n",
      "\n",
      "Setting direction: controls < cases\n",
      "\n"
     ]
    },
    {
     "name": "stdout",
     "output_type": "stream",
     "text": [
      "          Reference\n",
      "Prediction positive negative\n",
      "  positive      179      317\n",
      "  negative        8      164\n"
     ]
    },
    {
     "name": "stderr",
     "output_type": "stream",
     "text": [
      "Setting levels: control = 0, case = 1\n",
      "\n",
      "Setting direction: controls < cases\n",
      "\n"
     ]
    },
    {
     "name": "stdout",
     "output_type": "stream",
     "text": [
      "          Reference\n",
      "Prediction positive negative\n",
      "  positive      179      317\n",
      "  negative        8      164\n"
     ]
    },
    {
     "name": "stderr",
     "output_type": "stream",
     "text": [
      "Setting levels: control = 0, case = 1\n",
      "\n",
      "Setting direction: controls < cases\n",
      "\n"
     ]
    },
    {
     "name": "stdout",
     "output_type": "stream",
     "text": [
      "          Reference\n",
      "Prediction positive negative\n",
      "  positive      179      317\n",
      "  negative        8      164\n"
     ]
    },
    {
     "name": "stderr",
     "output_type": "stream",
     "text": [
      "Setting levels: control = 0, case = 1\n",
      "\n",
      "Setting direction: controls < cases\n",
      "\n"
     ]
    },
    {
     "name": "stdout",
     "output_type": "stream",
     "text": [
      "          Reference\n",
      "Prediction positive negative\n",
      "  positive      179      317\n",
      "  negative        8      164\n"
     ]
    },
    {
     "name": "stderr",
     "output_type": "stream",
     "text": [
      "Setting levels: control = 0, case = 1\n",
      "\n",
      "Setting direction: controls < cases\n",
      "\n"
     ]
    },
    {
     "name": "stdout",
     "output_type": "stream",
     "text": [
      "          Reference\n",
      "Prediction positive negative\n",
      "  positive      179      317\n",
      "  negative        8      164\n"
     ]
    },
    {
     "name": "stderr",
     "output_type": "stream",
     "text": [
      "Setting levels: control = 0, case = 1\n",
      "\n",
      "Setting direction: controls < cases\n",
      "\n"
     ]
    },
    {
     "name": "stdout",
     "output_type": "stream",
     "text": [
      "          Reference\n",
      "Prediction positive negative\n",
      "  positive      179      317\n",
      "  negative        8      164\n"
     ]
    },
    {
     "name": "stderr",
     "output_type": "stream",
     "text": [
      "Setting levels: control = 0, case = 1\n",
      "\n",
      "Setting direction: controls < cases\n",
      "\n"
     ]
    },
    {
     "name": "stdout",
     "output_type": "stream",
     "text": [
      "          Reference\n",
      "Prediction positive negative\n",
      "  positive      179      317\n",
      "  negative        8      164\n"
     ]
    },
    {
     "name": "stderr",
     "output_type": "stream",
     "text": [
      "Setting levels: control = 0, case = 1\n",
      "\n",
      "Setting direction: controls < cases\n",
      "\n"
     ]
    },
    {
     "name": "stdout",
     "output_type": "stream",
     "text": [
      "          Reference\n",
      "Prediction positive negative\n",
      "  positive      179      317\n",
      "  negative        8      164\n"
     ]
    },
    {
     "name": "stderr",
     "output_type": "stream",
     "text": [
      "Setting levels: control = 0, case = 1\n",
      "\n",
      "Setting direction: controls < cases\n",
      "\n"
     ]
    },
    {
     "name": "stdout",
     "output_type": "stream",
     "text": [
      "          Reference\n",
      "Prediction positive negative\n",
      "  positive      179      317\n",
      "  negative        8      164\n"
     ]
    },
    {
     "name": "stderr",
     "output_type": "stream",
     "text": [
      "Setting levels: control = 0, case = 1\n",
      "\n",
      "Setting direction: controls < cases\n",
      "\n"
     ]
    },
    {
     "name": "stdout",
     "output_type": "stream",
     "text": [
      "          Reference\n",
      "Prediction positive negative\n",
      "  positive      179      317\n",
      "  negative        8      164\n"
     ]
    },
    {
     "name": "stderr",
     "output_type": "stream",
     "text": [
      "Setting levels: control = 0, case = 1\n",
      "\n",
      "Setting direction: controls < cases\n",
      "\n"
     ]
    }
   ],
   "source": [
    "library(pROC)\n",
    "library(gbm)\n",
    "prevalence <-0.1\n",
    "\n",
    "summ<-list()\n",
    "num.positive.pct<-num.positive<-auc.summ<-vector()\n",
    "cost.min<-1\n",
    "cost.max<-200\n",
    "# to do Vectorize :( \n",
    "for(cost in seq(from = cost.min, to = cost.max, by = 1)){\n",
    "\n",
    "#obtain optimum threshold\n",
    "best.th<-coords(x.roc, \"best\", ret=\"threshold\", transpose = FALSE, \n",
    "                best.method=\"youden\", best.weights=c(cost, prevalence))$threshold # default\n",
    "\n",
    "\n",
    "oos.current.prediction <-predict(gbm.model, newdata = test, n.trees = 500,\n",
    "                                 type=\"response\")\n",
    "\n",
    "#calculates pct/number of patients labeled as positive\n",
    "num.positive.pct[cost]<-sum(oos.current.prediction > best.th) / length(oos.current.prediction)\n",
    "num.positive[cost]<-sum(oos.current.prediction > best.th)\n",
    "\n",
    "summ[[cost]]<-BinModelPerformance(oos.current.prediction, best.th, test$SARS.Cov.2.exam.result)\n",
    "\n",
    "oos.x.roc<-roc(test$SARS.Cov.2.exam.result, predictor=oos.current.prediction)\n",
    "\n",
    "auc.summ[cost]<-auc(oos.x.roc)\n",
    "\n",
    "}"
   ]
  },
  {
   "cell_type": "code",
   "execution_count": 18,
   "metadata": {
    "_kg_hide-input": true
   },
   "outputs": [
    {
     "data": {
      "image/png": "[encoded data removed]"
     },
     "metadata": {
      "image/png": {
       "height": 420,
       "width": 420
      }
     },
     "output_type": "display_data"
    },
    {
     "data": {
      "image/png": "[encoded data removed]"
     },
     "metadata": {
      "image/png": {
       "height": 420,
       "width": 420
      }
     },
     "output_type": "display_data"
    }
   ],
   "source": [
    "df.summ <- data.frame(matrix(unlist(summ), nrow=length(summ), byrow=T))\n",
    "df.summ$num.positive <- num.positive\n",
    "df.summ$num.positive.pct <- num.positive.pct\n",
    "df.summ$auc <- auc.summ\n",
    "df.summ$cost <- cost.min:cost.max\n",
    "names(df.summ)<-c(names(summ[[1]]), \"num.positive\",  \"num.positive.pct\", \"auc\",\"cost\")\n",
    "\n",
    "df.summ$ROC<-NULL\n",
    "\n",
    "library(reshape)\n",
    "mdata <- melt(df.summ, id=c(\"cost\",\"num.positive\", \"num.positive.pct\"))\n",
    "\n",
    "library(ggplot2)\n",
    "ggplot(mdata, aes(x = cost, y = value)) + \n",
    "  geom_line(aes(color = variable)) + \n",
    "  theme_bw()\n",
    "\n",
    "ggplot(mdata, aes(x = num.positive.pct, y = value)) + \n",
    "  geom_line(aes(color = variable)) + \n",
    "  theme_bw()"
   ]
  },
  {
   "cell_type": "markdown",
   "metadata": {},
   "source": [
    "\n",
    "## Conclusion\n",
    "\n",
    "In this work, we showed that it is possible to predict the test result for SARS-CoV-2 based on the results of laboratory tests commonly collected for a suspected COVID-19 case by analyzing a sample of 5644 patients of which 558 tested positive for SARS-CoV-2 from the Hospital Israelita Albert Einstein. \n",
    "\n",
    "The proposed model is of practical application with 92% AUC and Sensitivity/Specificity levels greater than 85% depending on target policies/scenarios. The model has high interpretability further showing that patients admitted with COVID-19 symptoms who tested negative for Rhinovirus Enterovirus, Influenza B and Inf.A.H1N1.2009 and presented low levels of Leukocytes and Platelets were more likely to test positive for SARS-CoV-2. \n",
    "\n",
    "We have also studied how model’s performance can be adapted according to different scenarios which are defined as a function of target Sensitivity or hospital’s policy to prioritize a number of patients. We showed that Specificity levels above 98% can be achieved if the hospital were willing to consider a test that selects as many as 75% of the patients as likely to test positive. However, we showed that a well-balanced model can be achieved (both Specificity and Sensitivity greater than 85%) with a patient prioritization level of about 25%, hence proving to be a relevant prioritization procedure. Model’s performance balance can be defined as a function of hospital-specific policies that consider prevalence, patients prioritization level or target Sensitivity levels.\n",
    "\n",
    "We employed a parsimonious modeling approach and the construction of a simple yet effective and transparent baseline model. We acknowledge that findings should be taken with caution because of several limitations in the study, including: (i) small number of data samples; (ii) imbalanced dataset; (iii) high sparsity in the predictors. Also, we have as potential bias the presence of a viral screening in the common lab tests of the particular hospital studied in this study, which might not be available in many other medical facilities in Brazil or worldwide. \n",
    "\n",
    "Further research can address a small quantity of variables but with vitals and physical examination records. Given the profile of the disease, image study from x-ray and tomography could provide early detection of severe cases, predicting the need of an ICU bed."
   ]
  }
 ],
 "metadata": {
  "kernelspec": {
   "display_name": "R",
   "language": "R",
   "name": "ir"
  },
  "language_info": {
   "codemirror_mode": "r",
   "file_extension": ".r",
   "mimetype": "text/x-r-source",
   "name": "R",
   "pygments_lexer": "r",
   "version": "3.6.0"
  }
 },
 "nbformat": 4,
 "nbformat_minor": 4
}
